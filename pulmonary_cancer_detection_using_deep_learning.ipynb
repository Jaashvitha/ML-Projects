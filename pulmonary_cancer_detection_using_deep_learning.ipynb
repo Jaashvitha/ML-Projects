{
  "cells": [
    {
      "cell_type": "raw",
      "metadata": {
        "id": "lleuDiuM75F1"
      },
      "source": [
        "***Deep Learning based classifier for Pulmonary Cancer Images***\n",
        "\n"
      ]
    },
    {
      "cell_type": "code",
      "execution_count": null,
      "metadata": {
        "colab": {
          "base_uri": "https://localhost:8080/",
          "height": 1000
        },
        "id": "bOO7ACKiR1-W",
        "outputId": "41526846-2910-40ea-80b3-73d39ccc7273"
      },
      "outputs": [
        {
          "output_type": "stream",
          "name": "stdout",
          "text": [
            "Looking in indexes: https://pypi.org/simple, https://us-python.pkg.dev/colab-wheels/public/simple/\n",
            "Requirement already satisfied: opencv-python in /usr/local/lib/python3.7/dist-packages (4.6.0.66)\n",
            "Requirement already satisfied: numpy>=1.14.5 in /usr/local/lib/python3.7/dist-packages (from opencv-python) (1.21.6)\n",
            "Looking in indexes: https://pypi.org/simple, https://us-python.pkg.dev/colab-wheels/public/simple/\n",
            "Collecting tensorflow==2.6.0\n",
            "  Downloading https://us-python.pkg.dev/colab-wheels/public/tensorflow/tensorflow-2.6.0%2Bzzzcolab20220506153740-cp37-cp37m-linux_x86_64.whl (564.4 MB)\n",
            "\u001b[K     |████████████████████████████████| 564.4 MB 2.4 kB/s \n",
            "\u001b[?25hRequirement already satisfied: flatbuffers~=1.12.0 in /usr/local/lib/python3.7/dist-packages (from tensorflow==2.6.0) (1.12)\n",
            "Requirement already satisfied: h5py~=3.1.0 in /usr/local/lib/python3.7/dist-packages (from tensorflow==2.6.0) (3.1.0)\n",
            "Collecting termcolor~=1.1.0\n",
            "  Downloading termcolor-1.1.0.tar.gz (3.9 kB)\n",
            "Collecting wrapt~=1.12.1\n",
            "  Downloading wrapt-1.12.1.tar.gz (27 kB)\n",
            "Collecting numpy~=1.19.2\n",
            "  Downloading numpy-1.19.5-cp37-cp37m-manylinux2010_x86_64.whl (14.8 MB)\n",
            "\u001b[K     |████████████████████████████████| 14.8 MB 7.1 MB/s \n",
            "\u001b[?25hRequirement already satisfied: google-pasta~=0.2 in /usr/local/lib/python3.7/dist-packages (from tensorflow==2.6.0) (0.2.0)\n",
            "Requirement already satisfied: protobuf>=3.9.2 in /usr/local/lib/python3.7/dist-packages (from tensorflow==2.6.0) (3.19.6)\n",
            "Requirement already satisfied: keras-preprocessing~=1.1.2 in /usr/local/lib/python3.7/dist-packages (from tensorflow==2.6.0) (1.1.2)\n",
            "Collecting typing-extensions~=3.7.4\n",
            "  Downloading typing_extensions-3.7.4.3-py3-none-any.whl (22 kB)\n",
            "Requirement already satisfied: grpcio<2.0,>=1.37.0 in /usr/local/lib/python3.7/dist-packages (from tensorflow==2.6.0) (1.50.0)\n",
            "Requirement already satisfied: gast==0.4.0 in /usr/local/lib/python3.7/dist-packages (from tensorflow==2.6.0) (0.4.0)\n",
            "Requirement already satisfied: opt-einsum~=3.3.0 in /usr/local/lib/python3.7/dist-packages (from tensorflow==2.6.0) (3.3.0)\n",
            "Requirement already satisfied: keras~=2.6 in /usr/local/lib/python3.7/dist-packages (from tensorflow==2.6.0) (2.9.0)\n",
            "Collecting clang~=5.0\n",
            "  Downloading clang-5.0.tar.gz (30 kB)\n",
            "Requirement already satisfied: tensorboard~=2.6 in /usr/local/lib/python3.7/dist-packages (from tensorflow==2.6.0) (2.9.1)\n",
            "Collecting absl-py~=0.10\n",
            "  Downloading absl_py-0.15.0-py3-none-any.whl (132 kB)\n",
            "\u001b[K     |████████████████████████████████| 132 kB 59.0 MB/s \n",
            "\u001b[?25hRequirement already satisfied: six~=1.15.0 in /usr/local/lib/python3.7/dist-packages (from tensorflow==2.6.0) (1.15.0)\n",
            "Requirement already satisfied: astunparse~=1.6.3 in /usr/local/lib/python3.7/dist-packages (from tensorflow==2.6.0) (1.6.3)\n",
            "Requirement already satisfied: tensorflow-estimator~=2.6 in /usr/local/lib/python3.7/dist-packages (from tensorflow==2.6.0) (2.9.0)\n",
            "Requirement already satisfied: wheel~=0.35 in /usr/local/lib/python3.7/dist-packages (from tensorflow==2.6.0) (0.38.3)\n",
            "Requirement already satisfied: cached-property in /usr/local/lib/python3.7/dist-packages (from h5py~=3.1.0->tensorflow==2.6.0) (1.5.2)\n",
            "Requirement already satisfied: werkzeug>=1.0.1 in /usr/local/lib/python3.7/dist-packages (from tensorboard~=2.6->tensorflow==2.6.0) (1.0.1)\n",
            "Requirement already satisfied: tensorboard-data-server<0.7.0,>=0.6.0 in /usr/local/lib/python3.7/dist-packages (from tensorboard~=2.6->tensorflow==2.6.0) (0.6.1)\n",
            "Requirement already satisfied: markdown>=2.6.8 in /usr/local/lib/python3.7/dist-packages (from tensorboard~=2.6->tensorflow==2.6.0) (3.4.1)\n",
            "Requirement already satisfied: google-auth-oauthlib<0.5,>=0.4.1 in /usr/local/lib/python3.7/dist-packages (from tensorboard~=2.6->tensorflow==2.6.0) (0.4.6)\n",
            "Requirement already satisfied: requests<3,>=2.21.0 in /usr/local/lib/python3.7/dist-packages (from tensorboard~=2.6->tensorflow==2.6.0) (2.23.0)\n",
            "Requirement already satisfied: google-auth<3,>=1.6.3 in /usr/local/lib/python3.7/dist-packages (from tensorboard~=2.6->tensorflow==2.6.0) (2.14.1)\n",
            "Requirement already satisfied: setuptools>=41.0.0 in /usr/local/lib/python3.7/dist-packages (from tensorboard~=2.6->tensorflow==2.6.0) (57.4.0)\n",
            "Requirement already satisfied: tensorboard-plugin-wit>=1.6.0 in /usr/local/lib/python3.7/dist-packages (from tensorboard~=2.6->tensorflow==2.6.0) (1.8.1)\n",
            "Requirement already satisfied: pyasn1-modules>=0.2.1 in /usr/local/lib/python3.7/dist-packages (from google-auth<3,>=1.6.3->tensorboard~=2.6->tensorflow==2.6.0) (0.2.8)\n",
            "Requirement already satisfied: cachetools<6.0,>=2.0.0 in /usr/local/lib/python3.7/dist-packages (from google-auth<3,>=1.6.3->tensorboard~=2.6->tensorflow==2.6.0) (5.2.0)\n",
            "Requirement already satisfied: rsa<5,>=3.1.4 in /usr/local/lib/python3.7/dist-packages (from google-auth<3,>=1.6.3->tensorboard~=2.6->tensorflow==2.6.0) (4.9)\n",
            "Requirement already satisfied: requests-oauthlib>=0.7.0 in /usr/local/lib/python3.7/dist-packages (from google-auth-oauthlib<0.5,>=0.4.1->tensorboard~=2.6->tensorflow==2.6.0) (1.3.1)\n",
            "Requirement already satisfied: importlib-metadata>=4.4 in /usr/local/lib/python3.7/dist-packages (from markdown>=2.6.8->tensorboard~=2.6->tensorflow==2.6.0) (4.13.0)\n",
            "Requirement already satisfied: zipp>=0.5 in /usr/local/lib/python3.7/dist-packages (from importlib-metadata>=4.4->markdown>=2.6.8->tensorboard~=2.6->tensorflow==2.6.0) (3.10.0)\n",
            "Requirement already satisfied: pyasn1<0.5.0,>=0.4.6 in /usr/local/lib/python3.7/dist-packages (from pyasn1-modules>=0.2.1->google-auth<3,>=1.6.3->tensorboard~=2.6->tensorflow==2.6.0) (0.4.8)\n",
            "Requirement already satisfied: chardet<4,>=3.0.2 in /usr/local/lib/python3.7/dist-packages (from requests<3,>=2.21.0->tensorboard~=2.6->tensorflow==2.6.0) (3.0.4)\n",
            "Requirement already satisfied: idna<3,>=2.5 in /usr/local/lib/python3.7/dist-packages (from requests<3,>=2.21.0->tensorboard~=2.6->tensorflow==2.6.0) (2.10)\n",
            "Requirement already satisfied: certifi>=2017.4.17 in /usr/local/lib/python3.7/dist-packages (from requests<3,>=2.21.0->tensorboard~=2.6->tensorflow==2.6.0) (2022.9.24)\n",
            "Requirement already satisfied: urllib3!=1.25.0,!=1.25.1,<1.26,>=1.21.1 in /usr/local/lib/python3.7/dist-packages (from requests<3,>=2.21.0->tensorboard~=2.6->tensorflow==2.6.0) (1.24.3)\n",
            "Requirement already satisfied: oauthlib>=3.0.0 in /usr/local/lib/python3.7/dist-packages (from requests-oauthlib>=0.7.0->google-auth-oauthlib<0.5,>=0.4.1->tensorboard~=2.6->tensorflow==2.6.0) (3.2.2)\n",
            "Building wheels for collected packages: clang, termcolor, wrapt\n",
            "  Building wheel for clang (setup.py) ... \u001b[?25l\u001b[?25hdone\n",
            "  Created wheel for clang: filename=clang-5.0-py3-none-any.whl size=30694 sha256=533aee08f7dfad9bc3ef8568d103326ed7a9be70b78ed8626dbcdfb5899a6cf2\n",
            "  Stored in directory: /root/.cache/pip/wheels/98/91/04/971b4c587cf47ae952b108949b46926f426c02832d120a082a\n",
            "  Building wheel for termcolor (setup.py) ... \u001b[?25l\u001b[?25hdone\n",
            "  Created wheel for termcolor: filename=termcolor-1.1.0-py3-none-any.whl size=4849 sha256=c0f1b3338913d2b64160dd86cc990b81fce368bc07f7947c2e7d2f6ce6159012\n",
            "  Stored in directory: /root/.cache/pip/wheels/3f/e3/ec/8a8336ff196023622fbcb36de0c5a5c218cbb24111d1d4c7f2\n",
            "  Building wheel for wrapt (setup.py) ... \u001b[?25l\u001b[?25hdone\n",
            "  Created wheel for wrapt: filename=wrapt-1.12.1-cp37-cp37m-linux_x86_64.whl size=68720 sha256=bab14da9d11831902caaa6dd7d8871aebee7e055bfda0348868c4acaebec7531\n",
            "  Stored in directory: /root/.cache/pip/wheels/62/76/4c/aa25851149f3f6d9785f6c869387ad82b3fd37582fa8147ac6\n",
            "Successfully built clang termcolor wrapt\n",
            "Installing collected packages: typing-extensions, numpy, absl-py, wrapt, termcolor, clang, tensorflow\n",
            "  Attempting uninstall: typing-extensions\n",
            "    Found existing installation: typing-extensions 4.1.1\n",
            "    Uninstalling typing-extensions-4.1.1:\n",
            "      Successfully uninstalled typing-extensions-4.1.1\n",
            "  Attempting uninstall: numpy\n",
            "    Found existing installation: numpy 1.21.6\n",
            "    Uninstalling numpy-1.21.6:\n",
            "      Successfully uninstalled numpy-1.21.6\n",
            "  Attempting uninstall: absl-py\n",
            "    Found existing installation: absl-py 1.3.0\n",
            "    Uninstalling absl-py-1.3.0:\n",
            "      Successfully uninstalled absl-py-1.3.0\n",
            "  Attempting uninstall: wrapt\n",
            "    Found existing installation: wrapt 1.14.1\n",
            "    Uninstalling wrapt-1.14.1:\n",
            "      Successfully uninstalled wrapt-1.14.1\n",
            "  Attempting uninstall: termcolor\n",
            "    Found existing installation: termcolor 2.1.0\n",
            "    Uninstalling termcolor-2.1.0:\n",
            "      Successfully uninstalled termcolor-2.1.0\n",
            "  Attempting uninstall: tensorflow\n",
            "    Found existing installation: tensorflow 2.9.2\n",
            "    Uninstalling tensorflow-2.9.2:\n",
            "      Successfully uninstalled tensorflow-2.9.2\n",
            "\u001b[31mERROR: pip's dependency resolver does not currently take into account all the packages that are installed. This behaviour is the source of the following dependency conflicts.\n",
            "xarray-einstats 0.2.2 requires numpy>=1.21, but you have numpy 1.19.5 which is incompatible.\n",
            "pydantic 1.10.2 requires typing-extensions>=4.1.0, but you have typing-extensions 3.7.4.3 which is incompatible.\n",
            "jaxlib 0.3.22+cuda11.cudnn805 requires numpy>=1.20, but you have numpy 1.19.5 which is incompatible.\n",
            "jax 0.3.23 requires numpy>=1.20, but you have numpy 1.19.5 which is incompatible.\n",
            "cmdstanpy 1.0.8 requires numpy>=1.21, but you have numpy 1.19.5 which is incompatible.\u001b[0m\n",
            "Successfully installed absl-py-0.15.0 clang-5.0 numpy-1.19.5 tensorflow-2.6.0+zzzcolab20220506153740 termcolor-1.1.0 typing-extensions-3.7.4.3 wrapt-1.12.1\n"
          ]
        },
        {
          "output_type": "display_data",
          "data": {
            "application/vnd.colab-display-data+json": {
              "pip_warning": {
                "packages": [
                  "numpy",
                  "typing_extensions"
                ]
              }
            }
          },
          "metadata": {}
        },
        {
          "output_type": "stream",
          "name": "stdout",
          "text": [
            "Looking in indexes: https://pypi.org/simple, https://us-python.pkg.dev/colab-wheels/public/simple/\n",
            "Requirement already satisfied: tensorflow in /usr/local/lib/python3.7/dist-packages (2.6.0+zzzcolab20220506153740)\n",
            "Collecting tensorflow\n",
            "  Downloading tensorflow-2.10.0-cp37-cp37m-manylinux_2_17_x86_64.manylinux2014_x86_64.whl (578.0 MB)\n",
            "\u001b[K     |████████████████████████████████| 578.0 MB 14 kB/s \n",
            "\u001b[?25hCollecting absl-py>=1.0.0\n",
            "  Downloading absl_py-1.3.0-py3-none-any.whl (124 kB)\n",
            "\u001b[K     |████████████████████████████████| 124 kB 62.1 MB/s \n",
            "\u001b[?25hRequirement already satisfied: typing-extensions>=3.6.6 in /usr/local/lib/python3.7/dist-packages (from tensorflow) (3.7.4.3)\n",
            "Collecting tensorflow-estimator<2.11,>=2.10.0\n",
            "  Downloading tensorflow_estimator-2.10.0-py2.py3-none-any.whl (438 kB)\n",
            "\u001b[K     |████████████████████████████████| 438 kB 63.0 MB/s \n",
            "\u001b[?25hRequirement already satisfied: libclang>=13.0.0 in /usr/local/lib/python3.7/dist-packages (from tensorflow) (14.0.6)\n",
            "Requirement already satisfied: astunparse>=1.6.0 in /usr/local/lib/python3.7/dist-packages (from tensorflow) (1.6.3)\n",
            "Requirement already satisfied: packaging in /usr/local/lib/python3.7/dist-packages (from tensorflow) (21.3)\n",
            "Requirement already satisfied: setuptools in /usr/local/lib/python3.7/dist-packages (from tensorflow) (57.4.0)\n",
            "Requirement already satisfied: h5py>=2.9.0 in /usr/local/lib/python3.7/dist-packages (from tensorflow) (3.1.0)\n",
            "Collecting numpy>=1.20\n",
            "  Downloading numpy-1.21.6-cp37-cp37m-manylinux_2_12_x86_64.manylinux2010_x86_64.whl (15.7 MB)\n",
            "\u001b[K     |████████████████████████████████| 15.7 MB 38.9 MB/s \n",
            "\u001b[?25hRequirement already satisfied: tensorflow-io-gcs-filesystem>=0.23.1 in /usr/local/lib/python3.7/dist-packages (from tensorflow) (0.27.0)\n",
            "Requirement already satisfied: grpcio<2.0,>=1.24.3 in /usr/local/lib/python3.7/dist-packages (from tensorflow) (1.50.0)\n",
            "Requirement already satisfied: termcolor>=1.1.0 in /usr/local/lib/python3.7/dist-packages (from tensorflow) (1.1.0)\n",
            "Requirement already satisfied: google-pasta>=0.1.1 in /usr/local/lib/python3.7/dist-packages (from tensorflow) (0.2.0)\n",
            "Collecting flatbuffers>=2.0\n",
            "  Downloading flatbuffers-22.10.26-py2.py3-none-any.whl (26 kB)\n",
            "Requirement already satisfied: six>=1.12.0 in /usr/local/lib/python3.7/dist-packages (from tensorflow) (1.15.0)\n",
            "Requirement already satisfied: protobuf<3.20,>=3.9.2 in /usr/local/lib/python3.7/dist-packages (from tensorflow) (3.19.6)\n",
            "Collecting tensorboard<2.11,>=2.10\n",
            "  Downloading tensorboard-2.10.1-py3-none-any.whl (5.9 MB)\n",
            "\u001b[K     |████████████████████████████████| 5.9 MB 43.8 MB/s \n",
            "\u001b[?25hRequirement already satisfied: keras-preprocessing>=1.1.1 in /usr/local/lib/python3.7/dist-packages (from tensorflow) (1.1.2)\n",
            "Requirement already satisfied: opt-einsum>=2.3.2 in /usr/local/lib/python3.7/dist-packages (from tensorflow) (3.3.0)\n",
            "Collecting keras<2.11,>=2.10.0\n",
            "  Downloading keras-2.10.0-py2.py3-none-any.whl (1.7 MB)\n",
            "\u001b[K     |████████████████████████████████| 1.7 MB 45.3 MB/s \n",
            "\u001b[?25hRequirement already satisfied: wrapt>=1.11.0 in /usr/local/lib/python3.7/dist-packages (from tensorflow) (1.12.1)\n",
            "Requirement already satisfied: gast<=0.4.0,>=0.2.1 in /usr/local/lib/python3.7/dist-packages (from tensorflow) (0.4.0)\n",
            "Requirement already satisfied: wheel<1.0,>=0.23.0 in /usr/local/lib/python3.7/dist-packages (from astunparse>=1.6.0->tensorflow) (0.38.3)\n",
            "Requirement already satisfied: cached-property in /usr/local/lib/python3.7/dist-packages (from h5py>=2.9.0->tensorflow) (1.5.2)\n",
            "Requirement already satisfied: tensorboard-data-server<0.7.0,>=0.6.0 in /usr/local/lib/python3.7/dist-packages (from tensorboard<2.11,>=2.10->tensorflow) (0.6.1)\n",
            "Requirement already satisfied: markdown>=2.6.8 in /usr/local/lib/python3.7/dist-packages (from tensorboard<2.11,>=2.10->tensorflow) (3.4.1)\n",
            "Requirement already satisfied: requests<3,>=2.21.0 in /usr/local/lib/python3.7/dist-packages (from tensorboard<2.11,>=2.10->tensorflow) (2.23.0)\n",
            "Requirement already satisfied: werkzeug>=1.0.1 in /usr/local/lib/python3.7/dist-packages (from tensorboard<2.11,>=2.10->tensorflow) (1.0.1)\n",
            "Requirement already satisfied: tensorboard-plugin-wit>=1.6.0 in /usr/local/lib/python3.7/dist-packages (from tensorboard<2.11,>=2.10->tensorflow) (1.8.1)\n",
            "Requirement already satisfied: google-auth<3,>=1.6.3 in /usr/local/lib/python3.7/dist-packages (from tensorboard<2.11,>=2.10->tensorflow) (2.14.1)\n",
            "Requirement already satisfied: google-auth-oauthlib<0.5,>=0.4.1 in /usr/local/lib/python3.7/dist-packages (from tensorboard<2.11,>=2.10->tensorflow) (0.4.6)\n",
            "Requirement already satisfied: pyasn1-modules>=0.2.1 in /usr/local/lib/python3.7/dist-packages (from google-auth<3,>=1.6.3->tensorboard<2.11,>=2.10->tensorflow) (0.2.8)\n",
            "Requirement already satisfied: rsa<5,>=3.1.4 in /usr/local/lib/python3.7/dist-packages (from google-auth<3,>=1.6.3->tensorboard<2.11,>=2.10->tensorflow) (4.9)\n",
            "Requirement already satisfied: cachetools<6.0,>=2.0.0 in /usr/local/lib/python3.7/dist-packages (from google-auth<3,>=1.6.3->tensorboard<2.11,>=2.10->tensorflow) (5.2.0)\n",
            "Requirement already satisfied: requests-oauthlib>=0.7.0 in /usr/local/lib/python3.7/dist-packages (from google-auth-oauthlib<0.5,>=0.4.1->tensorboard<2.11,>=2.10->tensorflow) (1.3.1)\n",
            "Requirement already satisfied: importlib-metadata>=4.4 in /usr/local/lib/python3.7/dist-packages (from markdown>=2.6.8->tensorboard<2.11,>=2.10->tensorflow) (4.13.0)\n",
            "Requirement already satisfied: zipp>=0.5 in /usr/local/lib/python3.7/dist-packages (from importlib-metadata>=4.4->markdown>=2.6.8->tensorboard<2.11,>=2.10->tensorflow) (3.10.0)\n",
            "Requirement already satisfied: pyasn1<0.5.0,>=0.4.6 in /usr/local/lib/python3.7/dist-packages (from pyasn1-modules>=0.2.1->google-auth<3,>=1.6.3->tensorboard<2.11,>=2.10->tensorflow) (0.4.8)\n",
            "Requirement already satisfied: chardet<4,>=3.0.2 in /usr/local/lib/python3.7/dist-packages (from requests<3,>=2.21.0->tensorboard<2.11,>=2.10->tensorflow) (3.0.4)\n",
            "Requirement already satisfied: idna<3,>=2.5 in /usr/local/lib/python3.7/dist-packages (from requests<3,>=2.21.0->tensorboard<2.11,>=2.10->tensorflow) (2.10)\n",
            "Requirement already satisfied: urllib3!=1.25.0,!=1.25.1,<1.26,>=1.21.1 in /usr/local/lib/python3.7/dist-packages (from requests<3,>=2.21.0->tensorboard<2.11,>=2.10->tensorflow) (1.24.3)\n",
            "Requirement already satisfied: certifi>=2017.4.17 in /usr/local/lib/python3.7/dist-packages (from requests<3,>=2.21.0->tensorboard<2.11,>=2.10->tensorflow) (2022.9.24)\n",
            "Requirement already satisfied: oauthlib>=3.0.0 in /usr/local/lib/python3.7/dist-packages (from requests-oauthlib>=0.7.0->google-auth-oauthlib<0.5,>=0.4.1->tensorboard<2.11,>=2.10->tensorflow) (3.2.2)\n",
            "Requirement already satisfied: pyparsing!=3.0.5,>=2.0.2 in /usr/local/lib/python3.7/dist-packages (from packaging->tensorflow) (3.0.9)\n",
            "Installing collected packages: numpy, absl-py, tensorflow-estimator, tensorboard, keras, flatbuffers, tensorflow\n",
            "\u001b[33m  WARNING: The scripts f2py, f2py3 and f2py3.7 are installed in '/root/.local/bin' which is not on PATH.\n",
            "  Consider adding this directory to PATH or, if you prefer to suppress this warning, use --no-warn-script-location.\u001b[0m\n",
            "\u001b[33m  WARNING: The script tensorboard is installed in '/root/.local/bin' which is not on PATH.\n",
            "  Consider adding this directory to PATH or, if you prefer to suppress this warning, use --no-warn-script-location.\u001b[0m\n",
            "\u001b[33m  WARNING: The scripts estimator_ckpt_converter, import_pb_to_tensorboard, saved_model_cli, tensorboard, tf_upgrade_v2, tflite_convert, toco and toco_from_protos are installed in '/root/.local/bin' which is not on PATH.\n",
            "  Consider adding this directory to PATH or, if you prefer to suppress this warning, use --no-warn-script-location.\u001b[0m\n",
            "Successfully installed absl-py-1.3.0 flatbuffers-22.10.26 keras-2.10.0 numpy-1.21.6 tensorboard-2.10.1 tensorflow-2.10.0 tensorflow-estimator-2.10.0\n"
          ]
        },
        {
          "output_type": "display_data",
          "data": {
            "application/vnd.colab-display-data+json": {
              "pip_warning": {
                "packages": [
                  "numpy"
                ]
              }
            }
          },
          "metadata": {}
        },
        {
          "output_type": "stream",
          "name": "stdout",
          "text": [
            "Looking in indexes: https://pypi.org/simple, https://us-python.pkg.dev/colab-wheels/public/simple/\n",
            "Requirement already satisfied: pip in /usr/local/lib/python3.7/dist-packages (21.1.3)\n",
            "Collecting pip\n",
            "  Downloading pip-22.3.1-py3-none-any.whl (2.1 MB)\n",
            "\u001b[K     |████████████████████████████████| 2.1 MB 5.2 MB/s \n",
            "\u001b[?25hInstalling collected packages: pip\n",
            "\u001b[33m  WARNING: The scripts pip, pip3, pip3.10 and pip3.7 are installed in '/root/.local/bin' which is not on PATH.\n",
            "  Consider adding this directory to PATH or, if you prefer to suppress this warning, use --no-warn-script-location.\u001b[0m\n",
            "Successfully installed pip-22.3.1\n"
          ]
        }
      ],
      "source": [
        "!pip install opencv-python\n",
        "!pip install tensorflow==2.6.0\n",
        "!pip install tensorflow --upgrade --user\n",
        "!pip install pip --upgrade --user\n"
      ]
    },
    {
      "cell_type": "code",
      "execution_count": null,
      "metadata": {
        "id": "SejSo2c475F2"
      },
      "outputs": [],
      "source": [
        "#importing libraries\n",
        "import tensorflow as tf\n",
        "from tensorflow import keras\n",
        "from tensorflow.keras import layers,models\n",
        "import matplotlib.pyplot as plt\n",
        "import cv2\n",
        "import os  #to establish interaction btw the user and the os\n",
        "import PIL #python imaging library\n",
        "import numpy as np\n",
        "import pathlib\n",
        "import glob #used to return all file paths that match a specific pattern"
      ]
    },
    {
      "cell_type": "code",
      "execution_count": null,
      "metadata": {
        "id": "cRU0uBofZsIa",
        "colab": {
          "base_uri": "https://localhost:8080/"
        },
        "outputId": "7f5d7167-50c2-4a00-c00a-630c3df10b96"
      },
      "outputs": [
        {
          "output_type": "stream",
          "name": "stdout",
          "text": [
            "Mounted at /content/drive\n"
          ]
        }
      ],
      "source": [
        "from google.colab import drive\n",
        "drive.mount('/content/drive')"
      ]
    },
    {
      "cell_type": "code",
      "execution_count": null,
      "metadata": {
        "id": "OMDrDCe_cI0D"
      },
      "outputs": [],
      "source": [
        "#assigning directory\n",
        "directory=pathlib.Path(\"/content/drive/My Drive/Data/train\")"
      ]
    },
    {
      "cell_type": "code",
      "execution_count": null,
      "metadata": {
        "id": "E7Xar4dSX-rO"
      },
      "outputs": [],
      "source": [
        "# Just needed in case you'd like to append it to an array\n",
        "data = []\n",
        "\n",
        "for filename in os.listdir(\".\"):\n",
        "    if filename.endswith(\"png\"): \n",
        "        # Your code comes here such as \n",
        "        print(filename)\n",
        "        data.append(filename)"
      ]
    },
    {
      "cell_type": "code",
      "execution_count": null,
      "metadata": {
        "id": "RMuPDJl775F4",
        "colab": {
          "base_uri": "https://localhost:8080/"
        },
        "outputId": "49c746bb-8e48-4f6f-961d-339236e31e47"
      },
      "outputs": [
        {
          "output_type": "execute_result",
          "data": {
            "text/plain": [
              "609"
            ]
          },
          "metadata": {},
          "execution_count": 5
        }
      ],
      "source": [
        "#count of images in the directory given\n",
        "image_count=len(list(directory.glob('*/*.png')))\n",
        "#print(list(directory.glob('/*.jpg')))\n",
        "image_count"
      ]
    },
    {
      "cell_type": "code",
      "execution_count": null,
      "metadata": {
        "id": "3T-9YLUf75F4"
      },
      "outputs": [],
      "source": [
        "#creating dictionary of lung images\n",
        "lung_images_dict={\n",
        "    \"adenocarcinoma\":list(directory.glob('adenocarcinoma/*.png')),\n",
        "    \"large_cell_carcinoma\":list(directory.glob('large_cell_carcinoma/*.png')),\n",
        "    \"normal\":list(directory.glob('normal/*.png')),\n",
        "    \"squamous_cell_carcinoma\":list(directory.glob('squamous_cell_carcinoma/*.png'))\n",
        "  \n",
        "    \n",
        "}"
      ]
    },
    {
      "cell_type": "code",
      "execution_count": null,
      "metadata": {
        "id": "8hIYz1Qk75F5",
        "colab": {
          "base_uri": "https://localhost:8080/"
        },
        "outputId": "7f282aa3-0f93-4e0a-8197-55cfbeccecd8"
      },
      "outputs": [
        {
          "output_type": "execute_result",
          "data": {
            "text/plain": [
              "{'adenocarcinoma': [PosixPath('/content/drive/My Drive/Data/train/adenocarcinoma/000000 (6).png'),\n",
              "  PosixPath('/content/drive/My Drive/Data/train/adenocarcinoma/000005 (3).png'),\n",
              "  PosixPath('/content/drive/My Drive/Data/train/adenocarcinoma/000005 (9).png'),\n",
              "  PosixPath('/content/drive/My Drive/Data/train/adenocarcinoma/000009 (3).png'),\n",
              "  PosixPath('/content/drive/My Drive/Data/train/adenocarcinoma/000009 (7).png'),\n",
              "  PosixPath('/content/drive/My Drive/Data/train/adenocarcinoma/000008 (10).png'),\n",
              "  PosixPath('/content/drive/My Drive/Data/train/adenocarcinoma/000014 (7).png'),\n",
              "  PosixPath('/content/drive/My Drive/Data/train/adenocarcinoma/000013 (4).png'),\n",
              "  PosixPath('/content/drive/My Drive/Data/train/adenocarcinoma/000013 (8).png'),\n",
              "  PosixPath('/content/drive/My Drive/Data/train/adenocarcinoma/000015 (10).png'),\n",
              "  PosixPath('/content/drive/My Drive/Data/train/adenocarcinoma/000015 (4).png'),\n",
              "  PosixPath('/content/drive/My Drive/Data/train/adenocarcinoma/000015 (9).png'),\n",
              "  PosixPath('/content/drive/My Drive/Data/train/adenocarcinoma/000016 (9).png'),\n",
              "  PosixPath('/content/drive/My Drive/Data/train/adenocarcinoma/000017 (8).png'),\n",
              "  PosixPath('/content/drive/My Drive/Data/train/adenocarcinoma/000017 (6).png'),\n",
              "  PosixPath('/content/drive/My Drive/Data/train/adenocarcinoma/000018 (5).png'),\n",
              "  PosixPath('/content/drive/My Drive/Data/train/adenocarcinoma/000019 (5).png'),\n",
              "  PosixPath('/content/drive/My Drive/Data/train/adenocarcinoma/000020 (10).png'),\n",
              "  PosixPath('/content/drive/My Drive/Data/train/adenocarcinoma/000021 (3).png'),\n",
              "  PosixPath('/content/drive/My Drive/Data/train/adenocarcinoma/000020 (6).png'),\n",
              "  PosixPath('/content/drive/My Drive/Data/train/adenocarcinoma/000020 (5).png'),\n",
              "  PosixPath('/content/drive/My Drive/Data/train/adenocarcinoma/000021 (4).png'),\n",
              "  PosixPath('/content/drive/My Drive/Data/train/adenocarcinoma/000021 (5).png'),\n",
              "  PosixPath('/content/drive/My Drive/Data/train/adenocarcinoma/000021 (8).png'),\n",
              "  PosixPath('/content/drive/My Drive/Data/train/adenocarcinoma/000021 (6).png'),\n",
              "  PosixPath('/content/drive/My Drive/Data/train/adenocarcinoma/000022 (10).png'),\n",
              "  PosixPath('/content/drive/My Drive/Data/train/adenocarcinoma/000022 (2).png'),\n",
              "  PosixPath('/content/drive/My Drive/Data/train/adenocarcinoma/000022 (8).png'),\n",
              "  PosixPath('/content/drive/My Drive/Data/train/adenocarcinoma/000022 (9).png'),\n",
              "  PosixPath('/content/drive/My Drive/Data/train/adenocarcinoma/000023 (10).png'),\n",
              "  PosixPath('/content/drive/My Drive/Data/train/adenocarcinoma/000022.png'),\n",
              "  PosixPath('/content/drive/My Drive/Data/train/adenocarcinoma/000023 (7).png'),\n",
              "  PosixPath('/content/drive/My Drive/Data/train/adenocarcinoma/000023 (5).png'),\n",
              "  PosixPath('/content/drive/My Drive/Data/train/adenocarcinoma/000024 (10).png'),\n",
              "  PosixPath('/content/drive/My Drive/Data/train/adenocarcinoma/000023 (9).png'),\n",
              "  PosixPath('/content/drive/My Drive/Data/train/adenocarcinoma/000024 (7).png'),\n",
              "  PosixPath('/content/drive/My Drive/Data/train/adenocarcinoma/000024.png'),\n",
              "  PosixPath('/content/drive/My Drive/Data/train/adenocarcinoma/000024 (6).png'),\n",
              "  PosixPath('/content/drive/My Drive/Data/train/adenocarcinoma/000026 (10).png'),\n",
              "  PosixPath('/content/drive/My Drive/Data/train/adenocarcinoma/000025 (6).png'),\n",
              "  PosixPath('/content/drive/My Drive/Data/train/adenocarcinoma/000026 (3).png'),\n",
              "  PosixPath('/content/drive/My Drive/Data/train/adenocarcinoma/000027 (6).png'),\n",
              "  PosixPath('/content/drive/My Drive/Data/train/adenocarcinoma/000027 (4).png'),\n",
              "  PosixPath('/content/drive/My Drive/Data/train/adenocarcinoma/000029 (4).png'),\n",
              "  PosixPath('/content/drive/My Drive/Data/train/adenocarcinoma/000029 (5).png'),\n",
              "  PosixPath('/content/drive/My Drive/Data/train/adenocarcinoma/000029 (9).png'),\n",
              "  PosixPath('/content/drive/My Drive/Data/train/adenocarcinoma/000030 (4).png'),\n",
              "  PosixPath('/content/drive/My Drive/Data/train/adenocarcinoma/000031 (3).png'),\n",
              "  PosixPath('/content/drive/My Drive/Data/train/adenocarcinoma/000034 (6).png'),\n",
              "  PosixPath('/content/drive/My Drive/Data/train/adenocarcinoma/000032 (8).png'),\n",
              "  PosixPath('/content/drive/My Drive/Data/train/adenocarcinoma/000033 (9).png'),\n",
              "  PosixPath('/content/drive/My Drive/Data/train/adenocarcinoma/000035 (4).png'),\n",
              "  PosixPath('/content/drive/My Drive/Data/train/adenocarcinoma/000035 (6).png'),\n",
              "  PosixPath('/content/drive/My Drive/Data/train/adenocarcinoma/000035 (5).png'),\n",
              "  PosixPath('/content/drive/My Drive/Data/train/adenocarcinoma/000035 (8).png'),\n",
              "  PosixPath('/content/drive/My Drive/Data/train/adenocarcinoma/000036 (7).png'),\n",
              "  PosixPath('/content/drive/My Drive/Data/train/adenocarcinoma/000036 (6).png'),\n",
              "  PosixPath('/content/drive/My Drive/Data/train/adenocarcinoma/000040 (5).png'),\n",
              "  PosixPath('/content/drive/My Drive/Data/train/adenocarcinoma/000040 (3).png'),\n",
              "  PosixPath('/content/drive/My Drive/Data/train/adenocarcinoma/000040 (10).png'),\n",
              "  PosixPath('/content/drive/My Drive/Data/train/adenocarcinoma/000041 (2).png'),\n",
              "  PosixPath('/content/drive/My Drive/Data/train/adenocarcinoma/000041 (4).png'),\n",
              "  PosixPath('/content/drive/My Drive/Data/train/adenocarcinoma/000041 (7).png'),\n",
              "  PosixPath('/content/drive/My Drive/Data/train/adenocarcinoma/000041 (8).png'),\n",
              "  PosixPath('/content/drive/My Drive/Data/train/adenocarcinoma/000042 (10).png'),\n",
              "  PosixPath('/content/drive/My Drive/Data/train/adenocarcinoma/000046 (5).png'),\n",
              "  PosixPath('/content/drive/My Drive/Data/train/adenocarcinoma/000044 (10).png'),\n",
              "  PosixPath('/content/drive/My Drive/Data/train/adenocarcinoma/000044 (9).png'),\n",
              "  PosixPath('/content/drive/My Drive/Data/train/adenocarcinoma/000048.png'),\n",
              "  PosixPath('/content/drive/My Drive/Data/train/adenocarcinoma/000048 (8).png'),\n",
              "  PosixPath('/content/drive/My Drive/Data/train/adenocarcinoma/000049 (5).png'),\n",
              "  PosixPath('/content/drive/My Drive/Data/train/adenocarcinoma/000049 (9).png'),\n",
              "  PosixPath('/content/drive/My Drive/Data/train/adenocarcinoma/000050 (3).png'),\n",
              "  PosixPath('/content/drive/My Drive/Data/train/adenocarcinoma/000050 (5).png'),\n",
              "  PosixPath('/content/drive/My Drive/Data/train/adenocarcinoma/000050 (8).png'),\n",
              "  PosixPath('/content/drive/My Drive/Data/train/adenocarcinoma/000050 (7).png'),\n",
              "  PosixPath('/content/drive/My Drive/Data/train/adenocarcinoma/000051 (4).png'),\n",
              "  PosixPath('/content/drive/My Drive/Data/train/adenocarcinoma/000051 (3).png'),\n",
              "  PosixPath('/content/drive/My Drive/Data/train/adenocarcinoma/000054 (6).png'),\n",
              "  PosixPath('/content/drive/My Drive/Data/train/adenocarcinoma/000054 (5).png'),\n",
              "  PosixPath('/content/drive/My Drive/Data/train/adenocarcinoma/000052 (10).png'),\n",
              "  PosixPath('/content/drive/My Drive/Data/train/adenocarcinoma/000054.png'),\n",
              "  PosixPath('/content/drive/My Drive/Data/train/adenocarcinoma/000055 (2).png'),\n",
              "  PosixPath('/content/drive/My Drive/Data/train/adenocarcinoma/000054 (7).png'),\n",
              "  PosixPath('/content/drive/My Drive/Data/train/adenocarcinoma/000056 (7).png'),\n",
              "  PosixPath('/content/drive/My Drive/Data/train/adenocarcinoma/000057 (2).png'),\n",
              "  PosixPath('/content/drive/My Drive/Data/train/adenocarcinoma/000057.png'),\n",
              "  PosixPath('/content/drive/My Drive/Data/train/adenocarcinoma/000059 (7).png'),\n",
              "  PosixPath('/content/drive/My Drive/Data/train/adenocarcinoma/000058 (4).png'),\n",
              "  PosixPath('/content/drive/My Drive/Data/train/adenocarcinoma/000058 (5).png'),\n",
              "  PosixPath('/content/drive/My Drive/Data/train/adenocarcinoma/000061.png'),\n",
              "  PosixPath('/content/drive/My Drive/Data/train/adenocarcinoma/000063 (3).png'),\n",
              "  PosixPath('/content/drive/My Drive/Data/train/adenocarcinoma/000063 (7).png'),\n",
              "  PosixPath('/content/drive/My Drive/Data/train/adenocarcinoma/000063 (5).png'),\n",
              "  PosixPath('/content/drive/My Drive/Data/train/adenocarcinoma/000065 (3).png'),\n",
              "  PosixPath('/content/drive/My Drive/Data/train/adenocarcinoma/000065 (8).png'),\n",
              "  PosixPath('/content/drive/My Drive/Data/train/adenocarcinoma/000066 (9).png'),\n",
              "  PosixPath('/content/drive/My Drive/Data/train/adenocarcinoma/000066 (10).png'),\n",
              "  PosixPath('/content/drive/My Drive/Data/train/adenocarcinoma/000065 (9).png'),\n",
              "  PosixPath('/content/drive/My Drive/Data/train/adenocarcinoma/000067 (10).png'),\n",
              "  PosixPath('/content/drive/My Drive/Data/train/adenocarcinoma/000067.png'),\n",
              "  PosixPath('/content/drive/My Drive/Data/train/adenocarcinoma/000068 (10).png'),\n",
              "  PosixPath('/content/drive/My Drive/Data/train/adenocarcinoma/000068 (3).png'),\n",
              "  PosixPath('/content/drive/My Drive/Data/train/adenocarcinoma/000068 (9).png'),\n",
              "  PosixPath('/content/drive/My Drive/Data/train/adenocarcinoma/000071 (3).png'),\n",
              "  PosixPath('/content/drive/My Drive/Data/train/adenocarcinoma/000069 (6).png'),\n",
              "  PosixPath('/content/drive/My Drive/Data/train/adenocarcinoma/000072 (10).png'),\n",
              "  PosixPath('/content/drive/My Drive/Data/train/adenocarcinoma/000074 (5).png'),\n",
              "  PosixPath('/content/drive/My Drive/Data/train/adenocarcinoma/000075 (5).png'),\n",
              "  PosixPath('/content/drive/My Drive/Data/train/adenocarcinoma/000077 (9).png'),\n",
              "  PosixPath('/content/drive/My Drive/Data/train/adenocarcinoma/000077 (6).png'),\n",
              "  PosixPath('/content/drive/My Drive/Data/train/adenocarcinoma/000078 (6).png'),\n",
              "  PosixPath('/content/drive/My Drive/Data/train/adenocarcinoma/000080 (10).png'),\n",
              "  PosixPath('/content/drive/My Drive/Data/train/adenocarcinoma/000079 (6).png'),\n",
              "  PosixPath('/content/drive/My Drive/Data/train/adenocarcinoma/000083 (3).png'),\n",
              "  PosixPath('/content/drive/My Drive/Data/train/adenocarcinoma/000080 (6).png'),\n",
              "  PosixPath('/content/drive/My Drive/Data/train/adenocarcinoma/000081 (2).png'),\n",
              "  PosixPath('/content/drive/My Drive/Data/train/adenocarcinoma/000084 (2).png'),\n",
              "  PosixPath('/content/drive/My Drive/Data/train/adenocarcinoma/000083 (6).png'),\n",
              "  PosixPath('/content/drive/My Drive/Data/train/adenocarcinoma/000084 (7).png'),\n",
              "  PosixPath('/content/drive/My Drive/Data/train/adenocarcinoma/000084 (3).png'),\n",
              "  PosixPath('/content/drive/My Drive/Data/train/adenocarcinoma/000084.png'),\n",
              "  PosixPath('/content/drive/My Drive/Data/train/adenocarcinoma/000085 (10).png'),\n",
              "  PosixPath('/content/drive/My Drive/Data/train/adenocarcinoma/000085 (4).png'),\n",
              "  PosixPath('/content/drive/My Drive/Data/train/adenocarcinoma/000086 (3).png'),\n",
              "  PosixPath('/content/drive/My Drive/Data/train/adenocarcinoma/000085 (7).png'),\n",
              "  PosixPath('/content/drive/My Drive/Data/train/adenocarcinoma/000086 (8).png'),\n",
              "  PosixPath('/content/drive/My Drive/Data/train/adenocarcinoma/000087 (4).png'),\n",
              "  PosixPath('/content/drive/My Drive/Data/train/adenocarcinoma/000090 (2).png'),\n",
              "  PosixPath('/content/drive/My Drive/Data/train/adenocarcinoma/000089 (8).png'),\n",
              "  PosixPath('/content/drive/My Drive/Data/train/adenocarcinoma/000087 (8).png'),\n",
              "  PosixPath('/content/drive/My Drive/Data/train/adenocarcinoma/000091.png'),\n",
              "  PosixPath('/content/drive/My Drive/Data/train/adenocarcinoma/000091 (3).png'),\n",
              "  PosixPath('/content/drive/My Drive/Data/train/adenocarcinoma/000091 (7).png'),\n",
              "  PosixPath('/content/drive/My Drive/Data/train/adenocarcinoma/000093 (10).png'),\n",
              "  PosixPath('/content/drive/My Drive/Data/train/adenocarcinoma/000092 (10).png'),\n",
              "  PosixPath('/content/drive/My Drive/Data/train/adenocarcinoma/000093 (6).png'),\n",
              "  PosixPath('/content/drive/My Drive/Data/train/adenocarcinoma/000093 (4).png'),\n",
              "  PosixPath('/content/drive/My Drive/Data/train/adenocarcinoma/000095 (6).png'),\n",
              "  PosixPath('/content/drive/My Drive/Data/train/adenocarcinoma/000095.png'),\n",
              "  PosixPath('/content/drive/My Drive/Data/train/adenocarcinoma/000096 (7).png'),\n",
              "  PosixPath('/content/drive/My Drive/Data/train/adenocarcinoma/000097 (10).png'),\n",
              "  PosixPath('/content/drive/My Drive/Data/train/adenocarcinoma/000097 (2).png'),\n",
              "  PosixPath('/content/drive/My Drive/Data/train/adenocarcinoma/000097 (3).png'),\n",
              "  PosixPath('/content/drive/My Drive/Data/train/adenocarcinoma/000098 (8).png'),\n",
              "  PosixPath('/content/drive/My Drive/Data/train/adenocarcinoma/000099 (7).png'),\n",
              "  PosixPath('/content/drive/My Drive/Data/train/adenocarcinoma/000098 (5).png'),\n",
              "  PosixPath('/content/drive/My Drive/Data/train/adenocarcinoma/000100 (10).png'),\n",
              "  PosixPath('/content/drive/My Drive/Data/train/adenocarcinoma/000102 (2).png'),\n",
              "  PosixPath('/content/drive/My Drive/Data/train/adenocarcinoma/000101 (7).png'),\n",
              "  PosixPath('/content/drive/My Drive/Data/train/adenocarcinoma/000102 (3).png'),\n",
              "  PosixPath('/content/drive/My Drive/Data/train/adenocarcinoma/000103 (9).png'),\n",
              "  PosixPath('/content/drive/My Drive/Data/train/adenocarcinoma/000102 (7).png'),\n",
              "  PosixPath('/content/drive/My Drive/Data/train/adenocarcinoma/000102.png'),\n",
              "  PosixPath('/content/drive/My Drive/Data/train/adenocarcinoma/000104 (10).png'),\n",
              "  PosixPath('/content/drive/My Drive/Data/train/adenocarcinoma/000104 (4).png'),\n",
              "  PosixPath('/content/drive/My Drive/Data/train/adenocarcinoma/000105 (3).png'),\n",
              "  PosixPath('/content/drive/My Drive/Data/train/adenocarcinoma/000105 (4).png'),\n",
              "  PosixPath('/content/drive/My Drive/Data/train/adenocarcinoma/000105.png'),\n",
              "  PosixPath('/content/drive/My Drive/Data/train/adenocarcinoma/000106 (4).png'),\n",
              "  PosixPath('/content/drive/My Drive/Data/train/adenocarcinoma/000106 (10).png'),\n",
              "  PosixPath('/content/drive/My Drive/Data/train/adenocarcinoma/000107 (9).png'),\n",
              "  PosixPath('/content/drive/My Drive/Data/train/adenocarcinoma/000106 (8).png'),\n",
              "  PosixPath('/content/drive/My Drive/Data/train/adenocarcinoma/000118 (4).png'),\n",
              "  PosixPath('/content/drive/My Drive/Data/train/adenocarcinoma/000118 (6).png'),\n",
              "  PosixPath('/content/drive/My Drive/Data/train/adenocarcinoma/000119 (10).png'),\n",
              "  PosixPath('/content/drive/My Drive/Data/train/adenocarcinoma/000119 (4).png'),\n",
              "  PosixPath('/content/drive/My Drive/Data/train/adenocarcinoma/000119 (5).png'),\n",
              "  PosixPath('/content/drive/My Drive/Data/train/adenocarcinoma/000121 (10).png'),\n",
              "  PosixPath('/content/drive/My Drive/Data/train/adenocarcinoma/000119 (6).png'),\n",
              "  PosixPath('/content/drive/My Drive/Data/train/adenocarcinoma/000121 (9).png'),\n",
              "  PosixPath('/content/drive/My Drive/Data/train/adenocarcinoma/000121.png'),\n",
              "  PosixPath('/content/drive/My Drive/Data/train/adenocarcinoma/ad1.png'),\n",
              "  PosixPath('/content/drive/My Drive/Data/train/adenocarcinoma/000122.png'),\n",
              "  PosixPath('/content/drive/My Drive/Data/train/adenocarcinoma/ad11.png'),\n",
              "  PosixPath('/content/drive/My Drive/Data/train/adenocarcinoma/ad10.png'),\n",
              "  PosixPath('/content/drive/My Drive/Data/train/adenocarcinoma/ad12.png'),\n",
              "  PosixPath('/content/drive/My Drive/Data/train/adenocarcinoma/ad13.png'),\n",
              "  PosixPath('/content/drive/My Drive/Data/train/adenocarcinoma/ad15.png'),\n",
              "  PosixPath('/content/drive/My Drive/Data/train/adenocarcinoma/ad14.png'),\n",
              "  PosixPath('/content/drive/My Drive/Data/train/adenocarcinoma/ad17.png'),\n",
              "  PosixPath('/content/drive/My Drive/Data/train/adenocarcinoma/ad16.png'),\n",
              "  PosixPath('/content/drive/My Drive/Data/train/adenocarcinoma/ad19.png'),\n",
              "  PosixPath('/content/drive/My Drive/Data/train/adenocarcinoma/ad18.png'),\n",
              "  PosixPath('/content/drive/My Drive/Data/train/adenocarcinoma/ad2.png'),\n",
              "  PosixPath('/content/drive/My Drive/Data/train/adenocarcinoma/ad21.png'),\n",
              "  PosixPath('/content/drive/My Drive/Data/train/adenocarcinoma/ad20.png'),\n",
              "  PosixPath('/content/drive/My Drive/Data/train/adenocarcinoma/ad3.png'),\n",
              "  PosixPath('/content/drive/My Drive/Data/train/adenocarcinoma/ad22.png'),\n",
              "  PosixPath('/content/drive/My Drive/Data/train/adenocarcinoma/ad4.png'),\n",
              "  PosixPath('/content/drive/My Drive/Data/train/adenocarcinoma/ad5.png'),\n",
              "  PosixPath('/content/drive/My Drive/Data/train/adenocarcinoma/ad7.png'),\n",
              "  PosixPath('/content/drive/My Drive/Data/train/adenocarcinoma/ad6.png'),\n",
              "  PosixPath('/content/drive/My Drive/Data/train/adenocarcinoma/ad8.png'),\n",
              "  PosixPath('/content/drive/My Drive/Data/train/adenocarcinoma/ad9.png')],\n",
              " 'large_cell_carcinoma': [PosixPath('/content/drive/My Drive/Data/train/large_cell_carcinoma/000002.png'),\n",
              "  PosixPath('/content/drive/My Drive/Data/train/large_cell_carcinoma/000003 (3).png'),\n",
              "  PosixPath('/content/drive/My Drive/Data/train/large_cell_carcinoma/000003 (4).png'),\n",
              "  PosixPath('/content/drive/My Drive/Data/train/large_cell_carcinoma/000009 (4).png'),\n",
              "  PosixPath('/content/drive/My Drive/Data/train/large_cell_carcinoma/000009 (3).png'),\n",
              "  PosixPath('/content/drive/My Drive/Data/train/large_cell_carcinoma/000015.png'),\n",
              "  PosixPath('/content/drive/My Drive/Data/train/large_cell_carcinoma/000010.png'),\n",
              "  PosixPath('/content/drive/My Drive/Data/train/large_cell_carcinoma/000016 (4).png'),\n",
              "  PosixPath('/content/drive/My Drive/Data/train/large_cell_carcinoma/000017.png'),\n",
              "  PosixPath('/content/drive/My Drive/Data/train/large_cell_carcinoma/000016 (3).png'),\n",
              "  PosixPath('/content/drive/My Drive/Data/train/large_cell_carcinoma/000019 (3).png'),\n",
              "  PosixPath('/content/drive/My Drive/Data/train/large_cell_carcinoma/000018 (2).png'),\n",
              "  PosixPath('/content/drive/My Drive/Data/train/large_cell_carcinoma/000020 (3).png'),\n",
              "  PosixPath('/content/drive/My Drive/Data/train/large_cell_carcinoma/000020 (4).png'),\n",
              "  PosixPath('/content/drive/My Drive/Data/train/large_cell_carcinoma/000019 (4).png'),\n",
              "  PosixPath('/content/drive/My Drive/Data/train/large_cell_carcinoma/000023 (2).png'),\n",
              "  PosixPath('/content/drive/My Drive/Data/train/large_cell_carcinoma/000021.png'),\n",
              "  PosixPath('/content/drive/My Drive/Data/train/large_cell_carcinoma/000026 (2).png'),\n",
              "  PosixPath('/content/drive/My Drive/Data/train/large_cell_carcinoma/000024 (2).png'),\n",
              "  PosixPath('/content/drive/My Drive/Data/train/large_cell_carcinoma/000027 (2).png'),\n",
              "  PosixPath('/content/drive/My Drive/Data/train/large_cell_carcinoma/000026.png'),\n",
              "  PosixPath('/content/drive/My Drive/Data/train/large_cell_carcinoma/000031.png'),\n",
              "  PosixPath('/content/drive/My Drive/Data/train/large_cell_carcinoma/000027.png'),\n",
              "  PosixPath('/content/drive/My Drive/Data/train/large_cell_carcinoma/000031 (2).png'),\n",
              "  PosixPath('/content/drive/My Drive/Data/train/large_cell_carcinoma/000032.png'),\n",
              "  PosixPath('/content/drive/My Drive/Data/train/large_cell_carcinoma/000033 (3).png'),\n",
              "  PosixPath('/content/drive/My Drive/Data/train/large_cell_carcinoma/000033 (4).png'),\n",
              "  PosixPath('/content/drive/My Drive/Data/train/large_cell_carcinoma/000034 (2).png'),\n",
              "  PosixPath('/content/drive/My Drive/Data/train/large_cell_carcinoma/000039 (4).png'),\n",
              "  PosixPath('/content/drive/My Drive/Data/train/large_cell_carcinoma/000039 (3).png'),\n",
              "  PosixPath('/content/drive/My Drive/Data/train/large_cell_carcinoma/000040 (2).png'),\n",
              "  PosixPath('/content/drive/My Drive/Data/train/large_cell_carcinoma/000041 (3).png'),\n",
              "  PosixPath('/content/drive/My Drive/Data/train/large_cell_carcinoma/000041.png'),\n",
              "  PosixPath('/content/drive/My Drive/Data/train/large_cell_carcinoma/000042 (2).png'),\n",
              "  PosixPath('/content/drive/My Drive/Data/train/large_cell_carcinoma/000041 (4).png'),\n",
              "  PosixPath('/content/drive/My Drive/Data/train/large_cell_carcinoma/000043 (2).png'),\n",
              "  PosixPath('/content/drive/My Drive/Data/train/large_cell_carcinoma/000046.png'),\n",
              "  PosixPath('/content/drive/My Drive/Data/train/large_cell_carcinoma/000047 (2).png'),\n",
              "  PosixPath('/content/drive/My Drive/Data/train/large_cell_carcinoma/000045.png'),\n",
              "  PosixPath('/content/drive/My Drive/Data/train/large_cell_carcinoma/000055 (4).png'),\n",
              "  PosixPath('/content/drive/My Drive/Data/train/large_cell_carcinoma/000051.png'),\n",
              "  PosixPath('/content/drive/My Drive/Data/train/large_cell_carcinoma/000055 (3).png'),\n",
              "  PosixPath('/content/drive/My Drive/Data/train/large_cell_carcinoma/000056 (3).png'),\n",
              "  PosixPath('/content/drive/My Drive/Data/train/large_cell_carcinoma/000055.png'),\n",
              "  PosixPath('/content/drive/My Drive/Data/train/large_cell_carcinoma/000057 (3).png'),\n",
              "  PosixPath('/content/drive/My Drive/Data/train/large_cell_carcinoma/000056 (4).png'),\n",
              "  PosixPath('/content/drive/My Drive/Data/train/large_cell_carcinoma/000058 (3).png'),\n",
              "  PosixPath('/content/drive/My Drive/Data/train/large_cell_carcinoma/000057 (4).png'),\n",
              "  PosixPath('/content/drive/My Drive/Data/train/large_cell_carcinoma/000057.png'),\n",
              "  PosixPath('/content/drive/My Drive/Data/train/large_cell_carcinoma/000058 (4).png'),\n",
              "  PosixPath('/content/drive/My Drive/Data/train/large_cell_carcinoma/000059 (4).png'),\n",
              "  PosixPath('/content/drive/My Drive/Data/train/large_cell_carcinoma/000059 (3).png'),\n",
              "  PosixPath('/content/drive/My Drive/Data/train/large_cell_carcinoma/000060.png'),\n",
              "  PosixPath('/content/drive/My Drive/Data/train/large_cell_carcinoma/000062 (3).png'),\n",
              "  PosixPath('/content/drive/My Drive/Data/train/large_cell_carcinoma/000062 (2).png'),\n",
              "  PosixPath('/content/drive/My Drive/Data/train/large_cell_carcinoma/000062.png'),\n",
              "  PosixPath('/content/drive/My Drive/Data/train/large_cell_carcinoma/000062 (4).png'),\n",
              "  PosixPath('/content/drive/My Drive/Data/train/large_cell_carcinoma/000063.png'),\n",
              "  PosixPath('/content/drive/My Drive/Data/train/large_cell_carcinoma/000063 (2).png'),\n",
              "  PosixPath('/content/drive/My Drive/Data/train/large_cell_carcinoma/000065 (2).png'),\n",
              "  PosixPath('/content/drive/My Drive/Data/train/large_cell_carcinoma/000066 (2).png'),\n",
              "  PosixPath('/content/drive/My Drive/Data/train/large_cell_carcinoma/000066.png'),\n",
              "  PosixPath('/content/drive/My Drive/Data/train/large_cell_carcinoma/000068 (3).png'),\n",
              "  PosixPath('/content/drive/My Drive/Data/train/large_cell_carcinoma/000068.png'),\n",
              "  PosixPath('/content/drive/My Drive/Data/train/large_cell_carcinoma/000068 (4).png'),\n",
              "  PosixPath('/content/drive/My Drive/Data/train/large_cell_carcinoma/000069.png'),\n",
              "  PosixPath('/content/drive/My Drive/Data/train/large_cell_carcinoma/000071 (2).png'),\n",
              "  PosixPath('/content/drive/My Drive/Data/train/large_cell_carcinoma/000072 (2).png'),\n",
              "  PosixPath('/content/drive/My Drive/Data/train/large_cell_carcinoma/000073 (2).png'),\n",
              "  PosixPath('/content/drive/My Drive/Data/train/large_cell_carcinoma/000076 (3).png'),\n",
              "  PosixPath('/content/drive/My Drive/Data/train/large_cell_carcinoma/000076 (4).png'),\n",
              "  PosixPath('/content/drive/My Drive/Data/train/large_cell_carcinoma/000078 (3).png'),\n",
              "  PosixPath('/content/drive/My Drive/Data/train/large_cell_carcinoma/000077.png'),\n",
              "  PosixPath('/content/drive/My Drive/Data/train/large_cell_carcinoma/000080.png'),\n",
              "  PosixPath('/content/drive/My Drive/Data/train/large_cell_carcinoma/000078 (4).png'),\n",
              "  PosixPath('/content/drive/My Drive/Data/train/large_cell_carcinoma/000084 (2).png'),\n",
              "  PosixPath('/content/drive/My Drive/Data/train/large_cell_carcinoma/000081.png'),\n",
              "  PosixPath('/content/drive/My Drive/Data/train/large_cell_carcinoma/000084.png'),\n",
              "  PosixPath('/content/drive/My Drive/Data/train/large_cell_carcinoma/000089.png'),\n",
              "  PosixPath('/content/drive/My Drive/Data/train/large_cell_carcinoma/000093 (3).png'),\n",
              "  PosixPath('/content/drive/My Drive/Data/train/large_cell_carcinoma/000093 (4).png'),\n",
              "  PosixPath('/content/drive/My Drive/Data/train/large_cell_carcinoma/000094 (2).png'),\n",
              "  PosixPath('/content/drive/My Drive/Data/train/large_cell_carcinoma/000094 (4) (1).png'),\n",
              "  PosixPath('/content/drive/My Drive/Data/train/large_cell_carcinoma/000094 (3).png'),\n",
              "  PosixPath('/content/drive/My Drive/Data/train/large_cell_carcinoma/000094 (4).png'),\n",
              "  PosixPath('/content/drive/My Drive/Data/train/large_cell_carcinoma/000095 (3) (1).png'),\n",
              "  PosixPath('/content/drive/My Drive/Data/train/large_cell_carcinoma/000095 (3).png'),\n",
              "  PosixPath('/content/drive/My Drive/Data/train/large_cell_carcinoma/000095 (2) (1).png'),\n",
              "  PosixPath('/content/drive/My Drive/Data/train/large_cell_carcinoma/000095 (2).png'),\n",
              "  PosixPath('/content/drive/My Drive/Data/train/large_cell_carcinoma/000095 (4) (1).png'),\n",
              "  PosixPath('/content/drive/My Drive/Data/train/large_cell_carcinoma/000095 (4).png'),\n",
              "  PosixPath('/content/drive/My Drive/Data/train/large_cell_carcinoma/000095 (1).png'),\n",
              "  PosixPath('/content/drive/My Drive/Data/train/large_cell_carcinoma/000095.png'),\n",
              "  PosixPath('/content/drive/My Drive/Data/train/large_cell_carcinoma/000097 (2) (1).png'),\n",
              "  PosixPath('/content/drive/My Drive/Data/train/large_cell_carcinoma/000097 (1).png'),\n",
              "  PosixPath('/content/drive/My Drive/Data/train/large_cell_carcinoma/000098 (3) (1).png'),\n",
              "  PosixPath('/content/drive/My Drive/Data/train/large_cell_carcinoma/000097.png'),\n",
              "  PosixPath('/content/drive/My Drive/Data/train/large_cell_carcinoma/000098 (3).png'),\n",
              "  PosixPath('/content/drive/My Drive/Data/train/large_cell_carcinoma/000097 (2).png'),\n",
              "  PosixPath('/content/drive/My Drive/Data/train/large_cell_carcinoma/000104 (2).png'),\n",
              "  PosixPath('/content/drive/My Drive/Data/train/large_cell_carcinoma/000098 (4).png'),\n",
              "  PosixPath('/content/drive/My Drive/Data/train/large_cell_carcinoma/000104.png'),\n",
              "  PosixPath('/content/drive/My Drive/Data/train/large_cell_carcinoma/000105 (2).png'),\n",
              "  PosixPath('/content/drive/My Drive/Data/train/large_cell_carcinoma/000105.png'),\n",
              "  PosixPath('/content/drive/My Drive/Data/train/large_cell_carcinoma/000106 (2).png'),\n",
              "  PosixPath('/content/drive/My Drive/Data/train/large_cell_carcinoma/000106.png'),\n",
              "  PosixPath('/content/drive/My Drive/Data/train/large_cell_carcinoma/000133.png'),\n",
              "  PosixPath('/content/drive/My Drive/Data/train/large_cell_carcinoma/000137.png'),\n",
              "  PosixPath('/content/drive/My Drive/Data/train/large_cell_carcinoma/000143.png'),\n",
              "  PosixPath('/content/drive/My Drive/Data/train/large_cell_carcinoma/000154.png'),\n",
              "  PosixPath('/content/drive/My Drive/Data/train/large_cell_carcinoma/000149.png'),\n",
              "  PosixPath('/content/drive/My Drive/Data/train/large_cell_carcinoma/000150.png'),\n",
              "  PosixPath('/content/drive/My Drive/Data/train/large_cell_carcinoma/000169.png'),\n",
              "  PosixPath('/content/drive/My Drive/Data/train/large_cell_carcinoma/000159.png'),\n",
              "  PosixPath('/content/drive/My Drive/Data/train/large_cell_carcinoma/000172.png'),\n",
              "  PosixPath('/content/drive/My Drive/Data/train/large_cell_carcinoma/000173.png'),\n",
              "  PosixPath('/content/drive/My Drive/Data/train/large_cell_carcinoma/di1.png'),\n",
              "  PosixPath('/content/drive/My Drive/Data/train/large_cell_carcinoma/l1.png'),\n",
              "  PosixPath('/content/drive/My Drive/Data/train/large_cell_carcinoma/l2.png'),\n",
              "  PosixPath('/content/drive/My Drive/Data/train/large_cell_carcinoma/l3.png'),\n",
              "  PosixPath('/content/drive/My Drive/Data/train/large_cell_carcinoma/l4.png'),\n",
              "  PosixPath('/content/drive/My Drive/Data/train/large_cell_carcinoma/l6.png'),\n",
              "  PosixPath('/content/drive/My Drive/Data/train/large_cell_carcinoma/l5.png')],\n",
              " 'normal': [PosixPath('/content/drive/My Drive/Data/train/normal/10 (2).png'),\n",
              "  PosixPath('/content/drive/My Drive/Data/train/normal/10 - Copy (2) - Copy.png'),\n",
              "  PosixPath('/content/drive/My Drive/Data/train/normal/10 (2) - Copy.png'),\n",
              "  PosixPath('/content/drive/My Drive/Data/train/normal/10 - Copy (2).png'),\n",
              "  PosixPath('/content/drive/My Drive/Data/train/normal/10 - Copy (3).png'),\n",
              "  PosixPath('/content/drive/My Drive/Data/train/normal/10 - Copy.png'),\n",
              "  PosixPath('/content/drive/My Drive/Data/train/normal/10 - Copy - Copy.png'),\n",
              "  PosixPath('/content/drive/My Drive/Data/train/normal/11 (2) - Copy.png'),\n",
              "  PosixPath('/content/drive/My Drive/Data/train/normal/10.png'),\n",
              "  PosixPath('/content/drive/My Drive/Data/train/normal/11 - Copy (2) - Copy.png'),\n",
              "  PosixPath('/content/drive/My Drive/Data/train/normal/11 (2).png'),\n",
              "  PosixPath('/content/drive/My Drive/Data/train/normal/11 - Copy (2).png'),\n",
              "  PosixPath('/content/drive/My Drive/Data/train/normal/11 - Copy - Copy.png'),\n",
              "  PosixPath('/content/drive/My Drive/Data/train/normal/11 - Copy.png'),\n",
              "  PosixPath('/content/drive/My Drive/Data/train/normal/11 - Copy (3).png'),\n",
              "  PosixPath('/content/drive/My Drive/Data/train/normal/11.png'),\n",
              "  PosixPath('/content/drive/My Drive/Data/train/normal/12 (2) - Copy.png'),\n",
              "  PosixPath('/content/drive/My Drive/Data/train/normal/12 - Copy (2) - Copy.png'),\n",
              "  PosixPath('/content/drive/My Drive/Data/train/normal/12 (2).png'),\n",
              "  PosixPath('/content/drive/My Drive/Data/train/normal/12 - Copy (2).png'),\n",
              "  PosixPath('/content/drive/My Drive/Data/train/normal/12 - Copy.png'),\n",
              "  PosixPath('/content/drive/My Drive/Data/train/normal/12 - Copy - Copy.png'),\n",
              "  PosixPath('/content/drive/My Drive/Data/train/normal/12 - Copy (3).png'),\n",
              "  PosixPath('/content/drive/My Drive/Data/train/normal/12.png'),\n",
              "  PosixPath('/content/drive/My Drive/Data/train/normal/13 (2).png'),\n",
              "  PosixPath('/content/drive/My Drive/Data/train/normal/13 (2) - Copy.png'),\n",
              "  PosixPath('/content/drive/My Drive/Data/train/normal/13 - Copy (2).png'),\n",
              "  PosixPath('/content/drive/My Drive/Data/train/normal/13 - Copy (2) - Copy.png'),\n",
              "  PosixPath('/content/drive/My Drive/Data/train/normal/13 - Copy (3).png'),\n",
              "  PosixPath('/content/drive/My Drive/Data/train/normal/13 - Copy - Copy.png'),\n",
              "  PosixPath('/content/drive/My Drive/Data/train/normal/13 - Copy.png'),\n",
              "  PosixPath('/content/drive/My Drive/Data/train/normal/16 (2) - Copy.png'),\n",
              "  PosixPath('/content/drive/My Drive/Data/train/normal/13.png'),\n",
              "  PosixPath('/content/drive/My Drive/Data/train/normal/16 - Copy (2) - Copy.png'),\n",
              "  PosixPath('/content/drive/My Drive/Data/train/normal/16 (2).png'),\n",
              "  PosixPath('/content/drive/My Drive/Data/train/normal/16 - Copy (3).png'),\n",
              "  PosixPath('/content/drive/My Drive/Data/train/normal/16 - Copy (2).png'),\n",
              "  PosixPath('/content/drive/My Drive/Data/train/normal/16 - Copy - Copy.png'),\n",
              "  PosixPath('/content/drive/My Drive/Data/train/normal/16 - Copy.png'),\n",
              "  PosixPath('/content/drive/My Drive/Data/train/normal/16.png'),\n",
              "  PosixPath('/content/drive/My Drive/Data/train/normal/17 (2) - Copy.png'),\n",
              "  PosixPath('/content/drive/My Drive/Data/train/normal/17 (2).png'),\n",
              "  PosixPath('/content/drive/My Drive/Data/train/normal/17 - Copy (2) - Copy.png'),\n",
              "  PosixPath('/content/drive/My Drive/Data/train/normal/17 - Copy (3).png'),\n",
              "  PosixPath('/content/drive/My Drive/Data/train/normal/17 - Copy (2).png'),\n",
              "  PosixPath('/content/drive/My Drive/Data/train/normal/17 - Copy - Copy.png'),\n",
              "  PosixPath('/content/drive/My Drive/Data/train/normal/17.png'),\n",
              "  PosixPath('/content/drive/My Drive/Data/train/normal/17 - Copy.png'),\n",
              "  PosixPath('/content/drive/My Drive/Data/train/normal/18 (2).png'),\n",
              "  PosixPath('/content/drive/My Drive/Data/train/normal/18 (2) - Copy.png'),\n",
              "  PosixPath('/content/drive/My Drive/Data/train/normal/18 - Copy (2) - Copy.png'),\n",
              "  PosixPath('/content/drive/My Drive/Data/train/normal/18 - Copy (2).png'),\n",
              "  PosixPath('/content/drive/My Drive/Data/train/normal/18 - Copy (3).png'),\n",
              "  PosixPath('/content/drive/My Drive/Data/train/normal/18 - Copy - Copy.png'),\n",
              "  PosixPath('/content/drive/My Drive/Data/train/normal/18 - Copy.png'),\n",
              "  PosixPath('/content/drive/My Drive/Data/train/normal/18.png'),\n",
              "  PosixPath('/content/drive/My Drive/Data/train/normal/19 (2).png'),\n",
              "  PosixPath('/content/drive/My Drive/Data/train/normal/19 (2) - Copy.png'),\n",
              "  PosixPath('/content/drive/My Drive/Data/train/normal/19 - Copy (2).png'),\n",
              "  PosixPath('/content/drive/My Drive/Data/train/normal/19 - Copy (2) - Copy.png'),\n",
              "  PosixPath('/content/drive/My Drive/Data/train/normal/19 - Copy (3).png'),\n",
              "  PosixPath('/content/drive/My Drive/Data/train/normal/19 - Copy - Copy.png'),\n",
              "  PosixPath('/content/drive/My Drive/Data/train/normal/19.png'),\n",
              "  PosixPath('/content/drive/My Drive/Data/train/normal/19 - Copy.png'),\n",
              "  PosixPath('/content/drive/My Drive/Data/train/normal/2 - Copy (2) - Copy.png'),\n",
              "  PosixPath('/content/drive/My Drive/Data/train/normal/2 (2).png'),\n",
              "  PosixPath('/content/drive/My Drive/Data/train/normal/2 (2) - Copy.png'),\n",
              "  PosixPath('/content/drive/My Drive/Data/train/normal/2 - Copy (2).png'),\n",
              "  PosixPath('/content/drive/My Drive/Data/train/normal/2 - Copy - Copy.png'),\n",
              "  PosixPath('/content/drive/My Drive/Data/train/normal/2 - Copy (3).png'),\n",
              "  PosixPath('/content/drive/My Drive/Data/train/normal/2.png'),\n",
              "  PosixPath('/content/drive/My Drive/Data/train/normal/2 - Copy.png'),\n",
              "  PosixPath('/content/drive/My Drive/Data/train/normal/20 (2) - Copy.png'),\n",
              "  PosixPath('/content/drive/My Drive/Data/train/normal/20 (2).png'),\n",
              "  PosixPath('/content/drive/My Drive/Data/train/normal/20 - Copy (2) - Copy.png'),\n",
              "  PosixPath('/content/drive/My Drive/Data/train/normal/20 - Copy (3).png'),\n",
              "  PosixPath('/content/drive/My Drive/Data/train/normal/20 - Copy - Copy.png'),\n",
              "  PosixPath('/content/drive/My Drive/Data/train/normal/20 - Copy (2).png'),\n",
              "  PosixPath('/content/drive/My Drive/Data/train/normal/20.png'),\n",
              "  PosixPath('/content/drive/My Drive/Data/train/normal/21 - Copy (2) - Copy.png'),\n",
              "  PosixPath('/content/drive/My Drive/Data/train/normal/20 - Copy.png'),\n",
              "  PosixPath('/content/drive/My Drive/Data/train/normal/21 - Copy - Copy.png'),\n",
              "  PosixPath('/content/drive/My Drive/Data/train/normal/21 - Copy (2).png'),\n",
              "  PosixPath('/content/drive/My Drive/Data/train/normal/21 - Copy.png'),\n",
              "  PosixPath('/content/drive/My Drive/Data/train/normal/3 (2).png'),\n",
              "  PosixPath('/content/drive/My Drive/Data/train/normal/3 (2) - Copy.png'),\n",
              "  PosixPath('/content/drive/My Drive/Data/train/normal/3 - Copy (2).png'),\n",
              "  PosixPath('/content/drive/My Drive/Data/train/normal/3 - Copy (2) - Copy.png'),\n",
              "  PosixPath('/content/drive/My Drive/Data/train/normal/3 - Copy - Copy.png'),\n",
              "  PosixPath('/content/drive/My Drive/Data/train/normal/3 - Copy (3).png'),\n",
              "  PosixPath('/content/drive/My Drive/Data/train/normal/3 - Copy.png'),\n",
              "  PosixPath('/content/drive/My Drive/Data/train/normal/3.png'),\n",
              "  PosixPath('/content/drive/My Drive/Data/train/normal/4 (2).png'),\n",
              "  PosixPath('/content/drive/My Drive/Data/train/normal/4 (2) - Copy.png'),\n",
              "  PosixPath('/content/drive/My Drive/Data/train/normal/4 - Copy (2).png'),\n",
              "  PosixPath('/content/drive/My Drive/Data/train/normal/4 - Copy (2) - Copy.png'),\n",
              "  PosixPath('/content/drive/My Drive/Data/train/normal/4 - Copy (3).png'),\n",
              "  PosixPath('/content/drive/My Drive/Data/train/normal/4 - Copy - Copy.png'),\n",
              "  PosixPath('/content/drive/My Drive/Data/train/normal/4 - Copy.png'),\n",
              "  PosixPath('/content/drive/My Drive/Data/train/normal/4.png'),\n",
              "  PosixPath('/content/drive/My Drive/Data/train/normal/5 (2).png'),\n",
              "  PosixPath('/content/drive/My Drive/Data/train/normal/5 (2) - Copy.png'),\n",
              "  PosixPath('/content/drive/My Drive/Data/train/normal/5 - Copy (2).png'),\n",
              "  PosixPath('/content/drive/My Drive/Data/train/normal/5 - Copy (2) - Copy.png'),\n",
              "  PosixPath('/content/drive/My Drive/Data/train/normal/5 - Copy.png'),\n",
              "  PosixPath('/content/drive/My Drive/Data/train/normal/5 - Copy - Copy.png'),\n",
              "  PosixPath('/content/drive/My Drive/Data/train/normal/5 - Copy (3).png'),\n",
              "  PosixPath('/content/drive/My Drive/Data/train/normal/5.png'),\n",
              "  PosixPath('/content/drive/My Drive/Data/train/normal/6 (2) - Copy.png'),\n",
              "  PosixPath('/content/drive/My Drive/Data/train/normal/6 (2).png'),\n",
              "  PosixPath('/content/drive/My Drive/Data/train/normal/6 - Copy (2) - Copy.png'),\n",
              "  PosixPath('/content/drive/My Drive/Data/train/normal/6 - Copy (2).png'),\n",
              "  PosixPath('/content/drive/My Drive/Data/train/normal/6 - Copy (3).png'),\n",
              "  PosixPath('/content/drive/My Drive/Data/train/normal/6 - Copy - Copy.png'),\n",
              "  PosixPath('/content/drive/My Drive/Data/train/normal/6 - Copy.png'),\n",
              "  PosixPath('/content/drive/My Drive/Data/train/normal/7 (2) - Copy.png'),\n",
              "  PosixPath('/content/drive/My Drive/Data/train/normal/6.png'),\n",
              "  PosixPath('/content/drive/My Drive/Data/train/normal/7 (2).png'),\n",
              "  PosixPath('/content/drive/My Drive/Data/train/normal/7 - Copy (2) - Copy.png'),\n",
              "  PosixPath('/content/drive/My Drive/Data/train/normal/7 - Copy (3).png'),\n",
              "  PosixPath('/content/drive/My Drive/Data/train/normal/7 - Copy (2).png'),\n",
              "  PosixPath('/content/drive/My Drive/Data/train/normal/7 - Copy.png'),\n",
              "  PosixPath('/content/drive/My Drive/Data/train/normal/7 - Copy - Copy.png'),\n",
              "  PosixPath('/content/drive/My Drive/Data/train/normal/7.png'),\n",
              "  PosixPath('/content/drive/My Drive/Data/train/normal/8 (2).png'),\n",
              "  PosixPath('/content/drive/My Drive/Data/train/normal/8 (2) - Copy.png'),\n",
              "  PosixPath('/content/drive/My Drive/Data/train/normal/8 - Copy (2).png'),\n",
              "  PosixPath('/content/drive/My Drive/Data/train/normal/8 - Copy (2) - Copy.png'),\n",
              "  PosixPath('/content/drive/My Drive/Data/train/normal/8 - Copy - Copy.png'),\n",
              "  PosixPath('/content/drive/My Drive/Data/train/normal/8 - Copy (3).png'),\n",
              "  PosixPath('/content/drive/My Drive/Data/train/normal/8.png'),\n",
              "  PosixPath('/content/drive/My Drive/Data/train/normal/8 - Copy.png'),\n",
              "  PosixPath('/content/drive/My Drive/Data/train/normal/n7 - Copy.png'),\n",
              "  PosixPath('/content/drive/My Drive/Data/train/normal/n7 (2).png'),\n",
              "  PosixPath('/content/drive/My Drive/Data/train/normal/n7 (2) - Copy.png'),\n",
              "  PosixPath('/content/drive/My Drive/Data/train/normal/n7.png')],\n",
              " 'squamous_cell_carcinoma': []}"
            ]
          },
          "metadata": {},
          "execution_count": 7
        }
      ],
      "source": [
        "lung_images_dict"
      ]
    },
    {
      "cell_type": "code",
      "execution_count": null,
      "metadata": {
        "id": "JRSaMtzw75F5"
      },
      "outputs": [],
      "source": [
        "#Different species list\n",
        "keys=[\"adenocarcinoma\",\"large_cell_carcinoma\",\"normal\",\"squamous_cell_carcinoma\"]"
      ]
    },
    {
      "cell_type": "code",
      "execution_count": null,
      "metadata": {
        "id": "nd2CHyRs75F5",
        "colab": {
          "base_uri": "https://localhost:8080/"
        },
        "outputId": "892cf078-b4e3-4435-cd7b-d7e39a88fdcc"
      },
      "outputs": [
        {
          "output_type": "stream",
          "name": "stdout",
          "text": [
            "completed\n",
            "completed\n",
            "completed\n",
            "completed\n",
            "completed\n",
            "completed\n",
            "completed\n",
            "completed\n",
            "completed\n",
            "completed\n",
            "completed\n",
            "completed\n",
            "completed\n",
            "completed\n",
            "completed\n",
            "completed\n",
            "completed\n",
            "completed\n",
            "completed\n",
            "completed\n",
            "completed\n",
            "completed\n",
            "completed\n",
            "completed\n",
            "completed\n",
            "completed\n",
            "completed\n",
            "completed\n",
            "completed\n",
            "completed\n",
            "completed\n",
            "completed\n",
            "completed\n",
            "completed\n",
            "completed\n",
            "completed\n",
            "completed\n",
            "completed\n",
            "completed\n",
            "completed\n",
            "completed\n",
            "completed\n",
            "completed\n",
            "completed\n",
            "completed\n",
            "completed\n",
            "completed\n",
            "completed\n",
            "completed\n",
            "completed\n",
            "completed\n",
            "completed\n",
            "completed\n",
            "completed\n",
            "completed\n",
            "completed\n",
            "completed\n",
            "completed\n",
            "completed\n",
            "completed\n",
            "completed\n",
            "completed\n",
            "completed\n",
            "completed\n",
            "completed\n",
            "completed\n",
            "completed\n",
            "completed\n",
            "completed\n",
            "completed\n",
            "completed\n",
            "completed\n",
            "completed\n",
            "completed\n",
            "completed\n",
            "completed\n",
            "completed\n",
            "completed\n",
            "completed\n",
            "completed\n",
            "completed\n",
            "completed\n",
            "completed\n",
            "completed\n",
            "completed\n",
            "completed\n",
            "completed\n",
            "completed\n",
            "completed\n",
            "completed\n",
            "completed\n",
            "completed\n",
            "completed\n",
            "completed\n",
            "completed\n",
            "completed\n",
            "completed\n",
            "completed\n",
            "completed\n",
            "completed\n",
            "completed\n",
            "completed\n",
            "completed\n",
            "completed\n",
            "completed\n",
            "completed\n",
            "completed\n",
            "completed\n",
            "completed\n",
            "completed\n",
            "completed\n",
            "completed\n",
            "completed\n",
            "completed\n",
            "completed\n",
            "completed\n",
            "completed\n",
            "completed\n",
            "completed\n",
            "completed\n",
            "completed\n",
            "completed\n",
            "completed\n",
            "completed\n",
            "completed\n",
            "completed\n",
            "completed\n",
            "completed\n",
            "completed\n",
            "completed\n",
            "completed\n",
            "completed\n",
            "completed\n",
            "completed\n",
            "completed\n",
            "completed\n",
            "completed\n",
            "completed\n",
            "completed\n",
            "completed\n",
            "completed\n",
            "completed\n",
            "completed\n",
            "completed\n",
            "completed\n",
            "completed\n",
            "completed\n",
            "completed\n",
            "completed\n",
            "completed\n",
            "completed\n",
            "completed\n",
            "completed\n",
            "completed\n",
            "completed\n",
            "completed\n",
            "completed\n",
            "completed\n",
            "completed\n",
            "completed\n",
            "completed\n",
            "completed\n",
            "completed\n",
            "completed\n",
            "completed\n",
            "completed\n",
            "completed\n",
            "completed\n",
            "completed\n",
            "completed\n",
            "completed\n",
            "completed\n",
            "completed\n",
            "completed\n",
            "completed\n",
            "completed\n",
            "completed\n",
            "completed\n",
            "completed\n",
            "completed\n",
            "completed\n",
            "completed\n",
            "completed\n",
            "completed\n",
            "completed\n",
            "completed\n",
            "completed\n",
            "completed\n",
            "completed\n",
            "completed\n",
            "completed\n",
            "completed\n",
            "completed\n",
            "completed\n",
            "completed\n",
            "completed\n",
            "completed\n",
            "completed\n",
            "completed\n",
            "completed\n",
            "completed\n",
            "completed\n",
            "completed\n",
            "completed\n",
            "completed\n",
            "completed\n",
            "completed\n",
            "completed\n",
            "completed\n",
            "completed\n",
            "completed\n",
            "completed\n",
            "completed\n",
            "completed\n",
            "completed\n",
            "completed\n",
            "completed\n",
            "completed\n",
            "completed\n",
            "completed\n",
            "completed\n",
            "completed\n",
            "completed\n",
            "completed\n",
            "completed\n",
            "completed\n",
            "completed\n",
            "completed\n",
            "completed\n",
            "completed\n",
            "completed\n",
            "completed\n",
            "completed\n",
            "completed\n",
            "completed\n",
            "completed\n",
            "completed\n",
            "completed\n",
            "completed\n",
            "completed\n",
            "completed\n",
            "completed\n",
            "completed\n",
            "completed\n",
            "completed\n",
            "completed\n",
            "completed\n",
            "completed\n",
            "completed\n",
            "completed\n",
            "completed\n",
            "completed\n",
            "completed\n",
            "completed\n",
            "completed\n",
            "completed\n",
            "completed\n",
            "completed\n",
            "completed\n",
            "completed\n",
            "completed\n",
            "completed\n",
            "completed\n",
            "completed\n",
            "completed\n",
            "completed\n",
            "completed\n",
            "completed\n",
            "completed\n",
            "completed\n",
            "completed\n",
            "completed\n",
            "completed\n",
            "completed\n",
            "completed\n",
            "completed\n",
            "completed\n",
            "completed\n",
            "completed\n",
            "completed\n",
            "completed\n",
            "completed\n",
            "completed\n",
            "completed\n",
            "completed\n",
            "completed\n",
            "completed\n",
            "completed\n",
            "completed\n",
            "completed\n",
            "completed\n",
            "completed\n",
            "completed\n",
            "completed\n",
            "completed\n",
            "completed\n",
            "completed\n",
            "completed\n",
            "completed\n",
            "completed\n",
            "completed\n",
            "completed\n",
            "completed\n",
            "completed\n",
            "completed\n",
            "completed\n",
            "completed\n",
            "completed\n",
            "completed\n",
            "completed\n",
            "completed\n",
            "completed\n",
            "completed\n",
            "completed\n",
            "completed\n",
            "completed\n",
            "completed\n",
            "completed\n",
            "completed\n",
            "completed\n",
            "completed\n",
            "completed\n",
            "completed\n",
            "completed\n",
            "completed\n",
            "completed\n",
            "completed\n",
            "completed\n",
            "completed\n",
            "completed\n",
            "completed\n",
            "completed\n",
            "completed\n",
            "completed\n",
            "completed\n",
            "completed\n",
            "completed\n",
            "completed\n",
            "completed\n",
            "completed\n",
            "completed\n",
            "completed\n",
            "completed\n",
            "completed\n",
            "completed\n",
            "completed\n",
            "completed\n",
            "completed\n",
            "completed\n",
            "completed\n",
            "completed\n",
            "completed\n",
            "completed\n",
            "completed\n",
            "completed\n",
            "completed\n",
            "completed\n",
            "completed\n",
            "completed\n",
            "completed\n",
            "completed\n",
            "completed\n",
            "completed\n",
            "completed\n",
            "completed\n",
            "completed\n",
            "completed\n",
            "completed\n",
            "completed\n",
            "completed\n",
            "completed\n",
            "completed\n",
            "completed\n",
            "completed\n",
            "completed\n",
            "completed\n",
            "completed\n",
            "completed\n",
            "completed\n",
            "completed\n",
            "completed\n",
            "completed\n",
            "completed\n",
            "completed\n",
            "completed\n",
            "completed\n",
            "completed\n",
            "completed\n",
            "completed\n",
            "completed\n",
            "completed\n",
            "completed\n",
            "completed\n",
            "completed\n",
            "completed\n",
            "completed\n",
            "completed\n",
            "completed\n",
            "completed\n",
            "completed\n",
            "completed\n",
            "completed\n",
            "completed\n",
            "completed\n",
            "completed\n",
            "completed\n",
            "completed\n",
            "completed\n",
            "completed\n",
            "completed\n",
            "completed\n",
            "completed\n",
            "completed\n",
            "completed\n",
            "completed\n",
            "completed\n",
            "completed\n",
            "completed\n",
            "completed\n",
            "completed\n",
            "completed\n",
            "completed\n",
            "completed\n",
            "completed\n",
            "completed\n",
            "completed\n",
            "completed\n",
            "completed\n",
            "completed\n",
            "completed\n",
            "completed\n",
            "completed\n",
            "completed\n",
            "completed\n",
            "completed\n",
            "completed\n",
            "completed\n",
            "completed\n",
            "completed\n",
            "completed\n",
            "completed\n",
            "completed\n",
            "completed\n",
            "completed\n",
            "completed\n",
            "completed\n",
            "completed\n",
            "completed\n",
            "completed\n",
            "completed\n",
            "completed\n",
            "completed\n",
            "completed\n",
            "completed\n"
          ]
        },
        {
          "output_type": "execute_result",
          "data": {
            "text/plain": [
              "{'adenocarcinoma': [PosixPath('/content/drive/My Drive/Data/train/adenocarcinoma/000000 (6).png'),\n",
              "  PosixPath('/content/drive/My Drive/Data/train/adenocarcinoma/000005 (3).png'),\n",
              "  PosixPath('/content/drive/My Drive/Data/train/adenocarcinoma/000005 (9).png'),\n",
              "  PosixPath('/content/drive/My Drive/Data/train/adenocarcinoma/000009 (3).png'),\n",
              "  PosixPath('/content/drive/My Drive/Data/train/adenocarcinoma/000009 (7).png'),\n",
              "  PosixPath('/content/drive/My Drive/Data/train/adenocarcinoma/000008 (10).png'),\n",
              "  PosixPath('/content/drive/My Drive/Data/train/adenocarcinoma/000014 (7).png'),\n",
              "  PosixPath('/content/drive/My Drive/Data/train/adenocarcinoma/000013 (4).png'),\n",
              "  PosixPath('/content/drive/My Drive/Data/train/adenocarcinoma/000013 (8).png'),\n",
              "  PosixPath('/content/drive/My Drive/Data/train/adenocarcinoma/000015 (10).png'),\n",
              "  PosixPath('/content/drive/My Drive/Data/train/adenocarcinoma/000015 (4).png'),\n",
              "  PosixPath('/content/drive/My Drive/Data/train/adenocarcinoma/000015 (9).png'),\n",
              "  PosixPath('/content/drive/My Drive/Data/train/adenocarcinoma/000016 (9).png'),\n",
              "  PosixPath('/content/drive/My Drive/Data/train/adenocarcinoma/000017 (8).png'),\n",
              "  PosixPath('/content/drive/My Drive/Data/train/adenocarcinoma/000017 (6).png'),\n",
              "  PosixPath('/content/drive/My Drive/Data/train/adenocarcinoma/000018 (5).png'),\n",
              "  PosixPath('/content/drive/My Drive/Data/train/adenocarcinoma/000019 (5).png'),\n",
              "  PosixPath('/content/drive/My Drive/Data/train/adenocarcinoma/000020 (10).png'),\n",
              "  PosixPath('/content/drive/My Drive/Data/train/adenocarcinoma/000021 (3).png'),\n",
              "  PosixPath('/content/drive/My Drive/Data/train/adenocarcinoma/000020 (6).png'),\n",
              "  PosixPath('/content/drive/My Drive/Data/train/adenocarcinoma/000020 (5).png'),\n",
              "  PosixPath('/content/drive/My Drive/Data/train/adenocarcinoma/000021 (4).png'),\n",
              "  PosixPath('/content/drive/My Drive/Data/train/adenocarcinoma/000021 (5).png'),\n",
              "  PosixPath('/content/drive/My Drive/Data/train/adenocarcinoma/000021 (8).png'),\n",
              "  PosixPath('/content/drive/My Drive/Data/train/adenocarcinoma/000021 (6).png'),\n",
              "  PosixPath('/content/drive/My Drive/Data/train/adenocarcinoma/000022 (10).png'),\n",
              "  PosixPath('/content/drive/My Drive/Data/train/adenocarcinoma/000022 (2).png'),\n",
              "  PosixPath('/content/drive/My Drive/Data/train/adenocarcinoma/000022 (8).png'),\n",
              "  PosixPath('/content/drive/My Drive/Data/train/adenocarcinoma/000022 (9).png'),\n",
              "  PosixPath('/content/drive/My Drive/Data/train/adenocarcinoma/000023 (10).png'),\n",
              "  PosixPath('/content/drive/My Drive/Data/train/adenocarcinoma/000022.png'),\n",
              "  PosixPath('/content/drive/My Drive/Data/train/adenocarcinoma/000023 (7).png'),\n",
              "  PosixPath('/content/drive/My Drive/Data/train/adenocarcinoma/000023 (5).png'),\n",
              "  PosixPath('/content/drive/My Drive/Data/train/adenocarcinoma/000024 (10).png'),\n",
              "  PosixPath('/content/drive/My Drive/Data/train/adenocarcinoma/000023 (9).png'),\n",
              "  PosixPath('/content/drive/My Drive/Data/train/adenocarcinoma/000024 (7).png'),\n",
              "  PosixPath('/content/drive/My Drive/Data/train/adenocarcinoma/000024.png'),\n",
              "  PosixPath('/content/drive/My Drive/Data/train/adenocarcinoma/000024 (6).png'),\n",
              "  PosixPath('/content/drive/My Drive/Data/train/adenocarcinoma/000026 (10).png'),\n",
              "  PosixPath('/content/drive/My Drive/Data/train/adenocarcinoma/000025 (6).png'),\n",
              "  PosixPath('/content/drive/My Drive/Data/train/adenocarcinoma/000026 (3).png'),\n",
              "  PosixPath('/content/drive/My Drive/Data/train/adenocarcinoma/000027 (6).png'),\n",
              "  PosixPath('/content/drive/My Drive/Data/train/adenocarcinoma/000027 (4).png'),\n",
              "  PosixPath('/content/drive/My Drive/Data/train/adenocarcinoma/000029 (4).png'),\n",
              "  PosixPath('/content/drive/My Drive/Data/train/adenocarcinoma/000029 (5).png'),\n",
              "  PosixPath('/content/drive/My Drive/Data/train/adenocarcinoma/000029 (9).png'),\n",
              "  PosixPath('/content/drive/My Drive/Data/train/adenocarcinoma/000030 (4).png'),\n",
              "  PosixPath('/content/drive/My Drive/Data/train/adenocarcinoma/000031 (3).png'),\n",
              "  PosixPath('/content/drive/My Drive/Data/train/adenocarcinoma/000034 (6).png'),\n",
              "  PosixPath('/content/drive/My Drive/Data/train/adenocarcinoma/000032 (8).png'),\n",
              "  PosixPath('/content/drive/My Drive/Data/train/adenocarcinoma/000033 (9).png'),\n",
              "  PosixPath('/content/drive/My Drive/Data/train/adenocarcinoma/000035 (4).png'),\n",
              "  PosixPath('/content/drive/My Drive/Data/train/adenocarcinoma/000035 (6).png'),\n",
              "  PosixPath('/content/drive/My Drive/Data/train/adenocarcinoma/000035 (5).png'),\n",
              "  PosixPath('/content/drive/My Drive/Data/train/adenocarcinoma/000035 (8).png'),\n",
              "  PosixPath('/content/drive/My Drive/Data/train/adenocarcinoma/000036 (7).png'),\n",
              "  PosixPath('/content/drive/My Drive/Data/train/adenocarcinoma/000036 (6).png'),\n",
              "  PosixPath('/content/drive/My Drive/Data/train/adenocarcinoma/000040 (5).png'),\n",
              "  PosixPath('/content/drive/My Drive/Data/train/adenocarcinoma/000040 (3).png'),\n",
              "  PosixPath('/content/drive/My Drive/Data/train/adenocarcinoma/000040 (10).png'),\n",
              "  PosixPath('/content/drive/My Drive/Data/train/adenocarcinoma/000041 (2).png'),\n",
              "  PosixPath('/content/drive/My Drive/Data/train/adenocarcinoma/000041 (4).png'),\n",
              "  PosixPath('/content/drive/My Drive/Data/train/adenocarcinoma/000041 (7).png'),\n",
              "  PosixPath('/content/drive/My Drive/Data/train/adenocarcinoma/000041 (8).png'),\n",
              "  PosixPath('/content/drive/My Drive/Data/train/adenocarcinoma/000042 (10).png'),\n",
              "  PosixPath('/content/drive/My Drive/Data/train/adenocarcinoma/000046 (5).png'),\n",
              "  PosixPath('/content/drive/My Drive/Data/train/adenocarcinoma/000044 (10).png'),\n",
              "  PosixPath('/content/drive/My Drive/Data/train/adenocarcinoma/000044 (9).png'),\n",
              "  PosixPath('/content/drive/My Drive/Data/train/adenocarcinoma/000048.png'),\n",
              "  PosixPath('/content/drive/My Drive/Data/train/adenocarcinoma/000048 (8).png'),\n",
              "  PosixPath('/content/drive/My Drive/Data/train/adenocarcinoma/000049 (5).png'),\n",
              "  PosixPath('/content/drive/My Drive/Data/train/adenocarcinoma/000049 (9).png'),\n",
              "  PosixPath('/content/drive/My Drive/Data/train/adenocarcinoma/000050 (3).png'),\n",
              "  PosixPath('/content/drive/My Drive/Data/train/adenocarcinoma/000050 (5).png'),\n",
              "  PosixPath('/content/drive/My Drive/Data/train/adenocarcinoma/000050 (8).png'),\n",
              "  PosixPath('/content/drive/My Drive/Data/train/adenocarcinoma/000050 (7).png'),\n",
              "  PosixPath('/content/drive/My Drive/Data/train/adenocarcinoma/000051 (4).png'),\n",
              "  PosixPath('/content/drive/My Drive/Data/train/adenocarcinoma/000051 (3).png'),\n",
              "  PosixPath('/content/drive/My Drive/Data/train/adenocarcinoma/000054 (6).png'),\n",
              "  PosixPath('/content/drive/My Drive/Data/train/adenocarcinoma/000054 (5).png'),\n",
              "  PosixPath('/content/drive/My Drive/Data/train/adenocarcinoma/000052 (10).png'),\n",
              "  PosixPath('/content/drive/My Drive/Data/train/adenocarcinoma/000054.png'),\n",
              "  PosixPath('/content/drive/My Drive/Data/train/adenocarcinoma/000055 (2).png'),\n",
              "  PosixPath('/content/drive/My Drive/Data/train/adenocarcinoma/000054 (7).png'),\n",
              "  PosixPath('/content/drive/My Drive/Data/train/adenocarcinoma/000056 (7).png'),\n",
              "  PosixPath('/content/drive/My Drive/Data/train/adenocarcinoma/000057 (2).png'),\n",
              "  PosixPath('/content/drive/My Drive/Data/train/adenocarcinoma/000057.png'),\n",
              "  PosixPath('/content/drive/My Drive/Data/train/adenocarcinoma/000059 (7).png'),\n",
              "  PosixPath('/content/drive/My Drive/Data/train/adenocarcinoma/000058 (4).png'),\n",
              "  PosixPath('/content/drive/My Drive/Data/train/adenocarcinoma/000058 (5).png'),\n",
              "  PosixPath('/content/drive/My Drive/Data/train/adenocarcinoma/000061.png'),\n",
              "  PosixPath('/content/drive/My Drive/Data/train/adenocarcinoma/000063 (3).png'),\n",
              "  PosixPath('/content/drive/My Drive/Data/train/adenocarcinoma/000063 (7).png'),\n",
              "  PosixPath('/content/drive/My Drive/Data/train/adenocarcinoma/000063 (5).png'),\n",
              "  PosixPath('/content/drive/My Drive/Data/train/adenocarcinoma/000065 (3).png'),\n",
              "  PosixPath('/content/drive/My Drive/Data/train/adenocarcinoma/000065 (8).png'),\n",
              "  PosixPath('/content/drive/My Drive/Data/train/adenocarcinoma/000066 (9).png'),\n",
              "  PosixPath('/content/drive/My Drive/Data/train/adenocarcinoma/000066 (10).png'),\n",
              "  PosixPath('/content/drive/My Drive/Data/train/adenocarcinoma/000065 (9).png'),\n",
              "  PosixPath('/content/drive/My Drive/Data/train/adenocarcinoma/000067 (10).png'),\n",
              "  PosixPath('/content/drive/My Drive/Data/train/adenocarcinoma/000067.png'),\n",
              "  PosixPath('/content/drive/My Drive/Data/train/adenocarcinoma/000068 (10).png'),\n",
              "  PosixPath('/content/drive/My Drive/Data/train/adenocarcinoma/000068 (3).png'),\n",
              "  PosixPath('/content/drive/My Drive/Data/train/adenocarcinoma/000068 (9).png'),\n",
              "  PosixPath('/content/drive/My Drive/Data/train/adenocarcinoma/000071 (3).png'),\n",
              "  PosixPath('/content/drive/My Drive/Data/train/adenocarcinoma/000069 (6).png'),\n",
              "  PosixPath('/content/drive/My Drive/Data/train/adenocarcinoma/000072 (10).png'),\n",
              "  PosixPath('/content/drive/My Drive/Data/train/adenocarcinoma/000074 (5).png'),\n",
              "  PosixPath('/content/drive/My Drive/Data/train/adenocarcinoma/000075 (5).png'),\n",
              "  PosixPath('/content/drive/My Drive/Data/train/adenocarcinoma/000077 (9).png'),\n",
              "  PosixPath('/content/drive/My Drive/Data/train/adenocarcinoma/000077 (6).png'),\n",
              "  PosixPath('/content/drive/My Drive/Data/train/adenocarcinoma/000078 (6).png'),\n",
              "  PosixPath('/content/drive/My Drive/Data/train/adenocarcinoma/000080 (10).png'),\n",
              "  PosixPath('/content/drive/My Drive/Data/train/adenocarcinoma/000079 (6).png'),\n",
              "  PosixPath('/content/drive/My Drive/Data/train/adenocarcinoma/000083 (3).png'),\n",
              "  PosixPath('/content/drive/My Drive/Data/train/adenocarcinoma/000080 (6).png'),\n",
              "  PosixPath('/content/drive/My Drive/Data/train/adenocarcinoma/000081 (2).png'),\n",
              "  PosixPath('/content/drive/My Drive/Data/train/adenocarcinoma/000084 (2).png'),\n",
              "  PosixPath('/content/drive/My Drive/Data/train/adenocarcinoma/000083 (6).png'),\n",
              "  PosixPath('/content/drive/My Drive/Data/train/adenocarcinoma/000084 (7).png'),\n",
              "  PosixPath('/content/drive/My Drive/Data/train/adenocarcinoma/000084 (3).png'),\n",
              "  PosixPath('/content/drive/My Drive/Data/train/adenocarcinoma/000084.png'),\n",
              "  PosixPath('/content/drive/My Drive/Data/train/adenocarcinoma/000085 (10).png'),\n",
              "  PosixPath('/content/drive/My Drive/Data/train/adenocarcinoma/000085 (4).png'),\n",
              "  PosixPath('/content/drive/My Drive/Data/train/adenocarcinoma/000086 (3).png'),\n",
              "  PosixPath('/content/drive/My Drive/Data/train/adenocarcinoma/000085 (7).png'),\n",
              "  PosixPath('/content/drive/My Drive/Data/train/adenocarcinoma/000086 (8).png'),\n",
              "  PosixPath('/content/drive/My Drive/Data/train/adenocarcinoma/000087 (4).png'),\n",
              "  PosixPath('/content/drive/My Drive/Data/train/adenocarcinoma/000090 (2).png'),\n",
              "  PosixPath('/content/drive/My Drive/Data/train/adenocarcinoma/000089 (8).png'),\n",
              "  PosixPath('/content/drive/My Drive/Data/train/adenocarcinoma/000087 (8).png'),\n",
              "  PosixPath('/content/drive/My Drive/Data/train/adenocarcinoma/000091.png'),\n",
              "  PosixPath('/content/drive/My Drive/Data/train/adenocarcinoma/000091 (3).png'),\n",
              "  PosixPath('/content/drive/My Drive/Data/train/adenocarcinoma/000091 (7).png'),\n",
              "  PosixPath('/content/drive/My Drive/Data/train/adenocarcinoma/000093 (10).png'),\n",
              "  PosixPath('/content/drive/My Drive/Data/train/adenocarcinoma/000092 (10).png'),\n",
              "  PosixPath('/content/drive/My Drive/Data/train/adenocarcinoma/000093 (6).png'),\n",
              "  PosixPath('/content/drive/My Drive/Data/train/adenocarcinoma/000093 (4).png'),\n",
              "  PosixPath('/content/drive/My Drive/Data/train/adenocarcinoma/000095 (6).png'),\n",
              "  PosixPath('/content/drive/My Drive/Data/train/adenocarcinoma/000095.png'),\n",
              "  PosixPath('/content/drive/My Drive/Data/train/adenocarcinoma/000096 (7).png'),\n",
              "  PosixPath('/content/drive/My Drive/Data/train/adenocarcinoma/000097 (10).png'),\n",
              "  PosixPath('/content/drive/My Drive/Data/train/adenocarcinoma/000097 (2).png'),\n",
              "  PosixPath('/content/drive/My Drive/Data/train/adenocarcinoma/000097 (3).png'),\n",
              "  PosixPath('/content/drive/My Drive/Data/train/adenocarcinoma/000098 (8).png'),\n",
              "  PosixPath('/content/drive/My Drive/Data/train/adenocarcinoma/000099 (7).png'),\n",
              "  PosixPath('/content/drive/My Drive/Data/train/adenocarcinoma/000098 (5).png'),\n",
              "  PosixPath('/content/drive/My Drive/Data/train/adenocarcinoma/000100 (10).png'),\n",
              "  PosixPath('/content/drive/My Drive/Data/train/adenocarcinoma/000102 (2).png'),\n",
              "  PosixPath('/content/drive/My Drive/Data/train/adenocarcinoma/000101 (7).png'),\n",
              "  PosixPath('/content/drive/My Drive/Data/train/adenocarcinoma/000102 (3).png'),\n",
              "  PosixPath('/content/drive/My Drive/Data/train/adenocarcinoma/000103 (9).png'),\n",
              "  PosixPath('/content/drive/My Drive/Data/train/adenocarcinoma/000102 (7).png'),\n",
              "  PosixPath('/content/drive/My Drive/Data/train/adenocarcinoma/000102.png'),\n",
              "  PosixPath('/content/drive/My Drive/Data/train/adenocarcinoma/000104 (10).png'),\n",
              "  PosixPath('/content/drive/My Drive/Data/train/adenocarcinoma/000104 (4).png'),\n",
              "  PosixPath('/content/drive/My Drive/Data/train/adenocarcinoma/000105 (3).png'),\n",
              "  PosixPath('/content/drive/My Drive/Data/train/adenocarcinoma/000105 (4).png'),\n",
              "  PosixPath('/content/drive/My Drive/Data/train/adenocarcinoma/000105.png'),\n",
              "  PosixPath('/content/drive/My Drive/Data/train/adenocarcinoma/000106 (4).png'),\n",
              "  PosixPath('/content/drive/My Drive/Data/train/adenocarcinoma/000106 (10).png'),\n",
              "  PosixPath('/content/drive/My Drive/Data/train/adenocarcinoma/000107 (9).png'),\n",
              "  PosixPath('/content/drive/My Drive/Data/train/adenocarcinoma/000106 (8).png'),\n",
              "  PosixPath('/content/drive/My Drive/Data/train/adenocarcinoma/000118 (4).png'),\n",
              "  PosixPath('/content/drive/My Drive/Data/train/adenocarcinoma/000118 (6).png'),\n",
              "  PosixPath('/content/drive/My Drive/Data/train/adenocarcinoma/000119 (10).png'),\n",
              "  PosixPath('/content/drive/My Drive/Data/train/adenocarcinoma/000119 (4).png'),\n",
              "  PosixPath('/content/drive/My Drive/Data/train/adenocarcinoma/000119 (5).png'),\n",
              "  PosixPath('/content/drive/My Drive/Data/train/adenocarcinoma/000121 (10).png'),\n",
              "  PosixPath('/content/drive/My Drive/Data/train/adenocarcinoma/000119 (6).png'),\n",
              "  PosixPath('/content/drive/My Drive/Data/train/adenocarcinoma/000121 (9).png'),\n",
              "  PosixPath('/content/drive/My Drive/Data/train/adenocarcinoma/000121.png'),\n",
              "  PosixPath('/content/drive/My Drive/Data/train/adenocarcinoma/ad1.png'),\n",
              "  PosixPath('/content/drive/My Drive/Data/train/adenocarcinoma/000122.png'),\n",
              "  PosixPath('/content/drive/My Drive/Data/train/adenocarcinoma/ad11.png'),\n",
              "  PosixPath('/content/drive/My Drive/Data/train/adenocarcinoma/ad10.png'),\n",
              "  PosixPath('/content/drive/My Drive/Data/train/adenocarcinoma/ad12.png'),\n",
              "  PosixPath('/content/drive/My Drive/Data/train/adenocarcinoma/ad13.png'),\n",
              "  PosixPath('/content/drive/My Drive/Data/train/adenocarcinoma/ad15.png'),\n",
              "  PosixPath('/content/drive/My Drive/Data/train/adenocarcinoma/ad14.png'),\n",
              "  PosixPath('/content/drive/My Drive/Data/train/adenocarcinoma/ad17.png'),\n",
              "  PosixPath('/content/drive/My Drive/Data/train/adenocarcinoma/ad16.png'),\n",
              "  PosixPath('/content/drive/My Drive/Data/train/adenocarcinoma/ad19.png'),\n",
              "  PosixPath('/content/drive/My Drive/Data/train/adenocarcinoma/ad18.png'),\n",
              "  PosixPath('/content/drive/My Drive/Data/train/adenocarcinoma/ad2.png'),\n",
              "  PosixPath('/content/drive/My Drive/Data/train/adenocarcinoma/ad21.png'),\n",
              "  PosixPath('/content/drive/My Drive/Data/train/adenocarcinoma/ad20.png'),\n",
              "  PosixPath('/content/drive/My Drive/Data/train/adenocarcinoma/ad3.png'),\n",
              "  PosixPath('/content/drive/My Drive/Data/train/adenocarcinoma/ad22.png'),\n",
              "  PosixPath('/content/drive/My Drive/Data/train/adenocarcinoma/ad4.png'),\n",
              "  PosixPath('/content/drive/My Drive/Data/train/adenocarcinoma/ad5.png'),\n",
              "  PosixPath('/content/drive/My Drive/Data/train/adenocarcinoma/ad7.png'),\n",
              "  PosixPath('/content/drive/My Drive/Data/train/adenocarcinoma/ad6.png'),\n",
              "  PosixPath('/content/drive/My Drive/Data/train/adenocarcinoma/ad8.png'),\n",
              "  PosixPath('/content/drive/My Drive/Data/train/adenocarcinoma/ad9.png')],\n",
              " 'large_cell_carcinoma': [PosixPath('/content/drive/My Drive/Data/train/large_cell_carcinoma/000002.png'),\n",
              "  PosixPath('/content/drive/My Drive/Data/train/large_cell_carcinoma/000003 (3).png'),\n",
              "  PosixPath('/content/drive/My Drive/Data/train/large_cell_carcinoma/000003 (4).png'),\n",
              "  PosixPath('/content/drive/My Drive/Data/train/large_cell_carcinoma/000009 (4).png'),\n",
              "  PosixPath('/content/drive/My Drive/Data/train/large_cell_carcinoma/000009 (3).png'),\n",
              "  PosixPath('/content/drive/My Drive/Data/train/large_cell_carcinoma/000015.png'),\n",
              "  PosixPath('/content/drive/My Drive/Data/train/large_cell_carcinoma/000010.png'),\n",
              "  PosixPath('/content/drive/My Drive/Data/train/large_cell_carcinoma/000016 (4).png'),\n",
              "  PosixPath('/content/drive/My Drive/Data/train/large_cell_carcinoma/000017.png'),\n",
              "  PosixPath('/content/drive/My Drive/Data/train/large_cell_carcinoma/000016 (3).png'),\n",
              "  PosixPath('/content/drive/My Drive/Data/train/large_cell_carcinoma/000019 (3).png'),\n",
              "  PosixPath('/content/drive/My Drive/Data/train/large_cell_carcinoma/000018 (2).png'),\n",
              "  PosixPath('/content/drive/My Drive/Data/train/large_cell_carcinoma/000020 (3).png'),\n",
              "  PosixPath('/content/drive/My Drive/Data/train/large_cell_carcinoma/000020 (4).png'),\n",
              "  PosixPath('/content/drive/My Drive/Data/train/large_cell_carcinoma/000019 (4).png'),\n",
              "  PosixPath('/content/drive/My Drive/Data/train/large_cell_carcinoma/000023 (2).png'),\n",
              "  PosixPath('/content/drive/My Drive/Data/train/large_cell_carcinoma/000021.png'),\n",
              "  PosixPath('/content/drive/My Drive/Data/train/large_cell_carcinoma/000026 (2).png'),\n",
              "  PosixPath('/content/drive/My Drive/Data/train/large_cell_carcinoma/000024 (2).png'),\n",
              "  PosixPath('/content/drive/My Drive/Data/train/large_cell_carcinoma/000027 (2).png'),\n",
              "  PosixPath('/content/drive/My Drive/Data/train/large_cell_carcinoma/000026.png'),\n",
              "  PosixPath('/content/drive/My Drive/Data/train/large_cell_carcinoma/000031.png'),\n",
              "  PosixPath('/content/drive/My Drive/Data/train/large_cell_carcinoma/000027.png'),\n",
              "  PosixPath('/content/drive/My Drive/Data/train/large_cell_carcinoma/000031 (2).png'),\n",
              "  PosixPath('/content/drive/My Drive/Data/train/large_cell_carcinoma/000032.png'),\n",
              "  PosixPath('/content/drive/My Drive/Data/train/large_cell_carcinoma/000033 (3).png'),\n",
              "  PosixPath('/content/drive/My Drive/Data/train/large_cell_carcinoma/000033 (4).png'),\n",
              "  PosixPath('/content/drive/My Drive/Data/train/large_cell_carcinoma/000034 (2).png'),\n",
              "  PosixPath('/content/drive/My Drive/Data/train/large_cell_carcinoma/000039 (4).png'),\n",
              "  PosixPath('/content/drive/My Drive/Data/train/large_cell_carcinoma/000039 (3).png'),\n",
              "  PosixPath('/content/drive/My Drive/Data/train/large_cell_carcinoma/000040 (2).png'),\n",
              "  PosixPath('/content/drive/My Drive/Data/train/large_cell_carcinoma/000041 (3).png'),\n",
              "  PosixPath('/content/drive/My Drive/Data/train/large_cell_carcinoma/000041.png'),\n",
              "  PosixPath('/content/drive/My Drive/Data/train/large_cell_carcinoma/000042 (2).png'),\n",
              "  PosixPath('/content/drive/My Drive/Data/train/large_cell_carcinoma/000041 (4).png'),\n",
              "  PosixPath('/content/drive/My Drive/Data/train/large_cell_carcinoma/000043 (2).png'),\n",
              "  PosixPath('/content/drive/My Drive/Data/train/large_cell_carcinoma/000046.png'),\n",
              "  PosixPath('/content/drive/My Drive/Data/train/large_cell_carcinoma/000047 (2).png'),\n",
              "  PosixPath('/content/drive/My Drive/Data/train/large_cell_carcinoma/000045.png'),\n",
              "  PosixPath('/content/drive/My Drive/Data/train/large_cell_carcinoma/000055 (4).png'),\n",
              "  PosixPath('/content/drive/My Drive/Data/train/large_cell_carcinoma/000051.png'),\n",
              "  PosixPath('/content/drive/My Drive/Data/train/large_cell_carcinoma/000055 (3).png'),\n",
              "  PosixPath('/content/drive/My Drive/Data/train/large_cell_carcinoma/000056 (3).png'),\n",
              "  PosixPath('/content/drive/My Drive/Data/train/large_cell_carcinoma/000055.png'),\n",
              "  PosixPath('/content/drive/My Drive/Data/train/large_cell_carcinoma/000057 (3).png'),\n",
              "  PosixPath('/content/drive/My Drive/Data/train/large_cell_carcinoma/000056 (4).png'),\n",
              "  PosixPath('/content/drive/My Drive/Data/train/large_cell_carcinoma/000058 (3).png'),\n",
              "  PosixPath('/content/drive/My Drive/Data/train/large_cell_carcinoma/000057 (4).png'),\n",
              "  PosixPath('/content/drive/My Drive/Data/train/large_cell_carcinoma/000057.png'),\n",
              "  PosixPath('/content/drive/My Drive/Data/train/large_cell_carcinoma/000058 (4).png'),\n",
              "  PosixPath('/content/drive/My Drive/Data/train/large_cell_carcinoma/000059 (4).png'),\n",
              "  PosixPath('/content/drive/My Drive/Data/train/large_cell_carcinoma/000059 (3).png'),\n",
              "  PosixPath('/content/drive/My Drive/Data/train/large_cell_carcinoma/000060.png'),\n",
              "  PosixPath('/content/drive/My Drive/Data/train/large_cell_carcinoma/000062 (3).png'),\n",
              "  PosixPath('/content/drive/My Drive/Data/train/large_cell_carcinoma/000062 (2).png'),\n",
              "  PosixPath('/content/drive/My Drive/Data/train/large_cell_carcinoma/000062.png'),\n",
              "  PosixPath('/content/drive/My Drive/Data/train/large_cell_carcinoma/000062 (4).png'),\n",
              "  PosixPath('/content/drive/My Drive/Data/train/large_cell_carcinoma/000063.png'),\n",
              "  PosixPath('/content/drive/My Drive/Data/train/large_cell_carcinoma/000063 (2).png'),\n",
              "  PosixPath('/content/drive/My Drive/Data/train/large_cell_carcinoma/000065 (2).png'),\n",
              "  PosixPath('/content/drive/My Drive/Data/train/large_cell_carcinoma/000066 (2).png'),\n",
              "  PosixPath('/content/drive/My Drive/Data/train/large_cell_carcinoma/000066.png'),\n",
              "  PosixPath('/content/drive/My Drive/Data/train/large_cell_carcinoma/000068 (3).png'),\n",
              "  PosixPath('/content/drive/My Drive/Data/train/large_cell_carcinoma/000068.png'),\n",
              "  PosixPath('/content/drive/My Drive/Data/train/large_cell_carcinoma/000068 (4).png'),\n",
              "  PosixPath('/content/drive/My Drive/Data/train/large_cell_carcinoma/000069.png'),\n",
              "  PosixPath('/content/drive/My Drive/Data/train/large_cell_carcinoma/000071 (2).png'),\n",
              "  PosixPath('/content/drive/My Drive/Data/train/large_cell_carcinoma/000072 (2).png'),\n",
              "  PosixPath('/content/drive/My Drive/Data/train/large_cell_carcinoma/000073 (2).png'),\n",
              "  PosixPath('/content/drive/My Drive/Data/train/large_cell_carcinoma/000076 (3).png'),\n",
              "  PosixPath('/content/drive/My Drive/Data/train/large_cell_carcinoma/000076 (4).png'),\n",
              "  PosixPath('/content/drive/My Drive/Data/train/large_cell_carcinoma/000078 (3).png'),\n",
              "  PosixPath('/content/drive/My Drive/Data/train/large_cell_carcinoma/000077.png'),\n",
              "  PosixPath('/content/drive/My Drive/Data/train/large_cell_carcinoma/000080.png'),\n",
              "  PosixPath('/content/drive/My Drive/Data/train/large_cell_carcinoma/000078 (4).png'),\n",
              "  PosixPath('/content/drive/My Drive/Data/train/large_cell_carcinoma/000084 (2).png'),\n",
              "  PosixPath('/content/drive/My Drive/Data/train/large_cell_carcinoma/000081.png'),\n",
              "  PosixPath('/content/drive/My Drive/Data/train/large_cell_carcinoma/000084.png'),\n",
              "  PosixPath('/content/drive/My Drive/Data/train/large_cell_carcinoma/000089.png'),\n",
              "  PosixPath('/content/drive/My Drive/Data/train/large_cell_carcinoma/000093 (3).png'),\n",
              "  PosixPath('/content/drive/My Drive/Data/train/large_cell_carcinoma/000093 (4).png'),\n",
              "  PosixPath('/content/drive/My Drive/Data/train/large_cell_carcinoma/000094 (2).png'),\n",
              "  PosixPath('/content/drive/My Drive/Data/train/large_cell_carcinoma/000094 (4) (1).png'),\n",
              "  PosixPath('/content/drive/My Drive/Data/train/large_cell_carcinoma/000094 (3).png'),\n",
              "  PosixPath('/content/drive/My Drive/Data/train/large_cell_carcinoma/000094 (4).png'),\n",
              "  PosixPath('/content/drive/My Drive/Data/train/large_cell_carcinoma/000095 (3) (1).png'),\n",
              "  PosixPath('/content/drive/My Drive/Data/train/large_cell_carcinoma/000095 (3).png'),\n",
              "  PosixPath('/content/drive/My Drive/Data/train/large_cell_carcinoma/000095 (2) (1).png'),\n",
              "  PosixPath('/content/drive/My Drive/Data/train/large_cell_carcinoma/000095 (2).png'),\n",
              "  PosixPath('/content/drive/My Drive/Data/train/large_cell_carcinoma/000095 (4) (1).png'),\n",
              "  PosixPath('/content/drive/My Drive/Data/train/large_cell_carcinoma/000095 (4).png'),\n",
              "  PosixPath('/content/drive/My Drive/Data/train/large_cell_carcinoma/000095 (1).png'),\n",
              "  PosixPath('/content/drive/My Drive/Data/train/large_cell_carcinoma/000095.png'),\n",
              "  PosixPath('/content/drive/My Drive/Data/train/large_cell_carcinoma/000097 (2) (1).png'),\n",
              "  PosixPath('/content/drive/My Drive/Data/train/large_cell_carcinoma/000097 (1).png'),\n",
              "  PosixPath('/content/drive/My Drive/Data/train/large_cell_carcinoma/000098 (3) (1).png'),\n",
              "  PosixPath('/content/drive/My Drive/Data/train/large_cell_carcinoma/000097.png'),\n",
              "  PosixPath('/content/drive/My Drive/Data/train/large_cell_carcinoma/000098 (3).png'),\n",
              "  PosixPath('/content/drive/My Drive/Data/train/large_cell_carcinoma/000097 (2).png'),\n",
              "  PosixPath('/content/drive/My Drive/Data/train/large_cell_carcinoma/000104 (2).png'),\n",
              "  PosixPath('/content/drive/My Drive/Data/train/large_cell_carcinoma/000098 (4).png'),\n",
              "  PosixPath('/content/drive/My Drive/Data/train/large_cell_carcinoma/000104.png'),\n",
              "  PosixPath('/content/drive/My Drive/Data/train/large_cell_carcinoma/000105 (2).png'),\n",
              "  PosixPath('/content/drive/My Drive/Data/train/large_cell_carcinoma/000105.png'),\n",
              "  PosixPath('/content/drive/My Drive/Data/train/large_cell_carcinoma/000106 (2).png'),\n",
              "  PosixPath('/content/drive/My Drive/Data/train/large_cell_carcinoma/000106.png'),\n",
              "  PosixPath('/content/drive/My Drive/Data/train/large_cell_carcinoma/000133.png'),\n",
              "  PosixPath('/content/drive/My Drive/Data/train/large_cell_carcinoma/000137.png'),\n",
              "  PosixPath('/content/drive/My Drive/Data/train/large_cell_carcinoma/000143.png'),\n",
              "  PosixPath('/content/drive/My Drive/Data/train/large_cell_carcinoma/000154.png'),\n",
              "  PosixPath('/content/drive/My Drive/Data/train/large_cell_carcinoma/000149.png'),\n",
              "  PosixPath('/content/drive/My Drive/Data/train/large_cell_carcinoma/000150.png'),\n",
              "  PosixPath('/content/drive/My Drive/Data/train/large_cell_carcinoma/000169.png'),\n",
              "  PosixPath('/content/drive/My Drive/Data/train/large_cell_carcinoma/000159.png'),\n",
              "  PosixPath('/content/drive/My Drive/Data/train/large_cell_carcinoma/000172.png'),\n",
              "  PosixPath('/content/drive/My Drive/Data/train/large_cell_carcinoma/000173.png'),\n",
              "  PosixPath('/content/drive/My Drive/Data/train/large_cell_carcinoma/di1.png'),\n",
              "  PosixPath('/content/drive/My Drive/Data/train/large_cell_carcinoma/l1.png'),\n",
              "  PosixPath('/content/drive/My Drive/Data/train/large_cell_carcinoma/l2.png'),\n",
              "  PosixPath('/content/drive/My Drive/Data/train/large_cell_carcinoma/l3.png'),\n",
              "  PosixPath('/content/drive/My Drive/Data/train/large_cell_carcinoma/l4.png'),\n",
              "  PosixPath('/content/drive/My Drive/Data/train/large_cell_carcinoma/l6.png'),\n",
              "  PosixPath('/content/drive/My Drive/Data/train/large_cell_carcinoma/l5.png')],\n",
              " 'normal': [PosixPath('/content/drive/My Drive/Data/train/normal/10 (2).png'),\n",
              "  PosixPath('/content/drive/My Drive/Data/train/normal/10 - Copy (2) - Copy.png'),\n",
              "  PosixPath('/content/drive/My Drive/Data/train/normal/10 (2) - Copy.png'),\n",
              "  PosixPath('/content/drive/My Drive/Data/train/normal/10 - Copy (2).png'),\n",
              "  PosixPath('/content/drive/My Drive/Data/train/normal/10 - Copy (3).png'),\n",
              "  PosixPath('/content/drive/My Drive/Data/train/normal/10 - Copy.png'),\n",
              "  PosixPath('/content/drive/My Drive/Data/train/normal/10 - Copy - Copy.png'),\n",
              "  PosixPath('/content/drive/My Drive/Data/train/normal/11 (2) - Copy.png'),\n",
              "  PosixPath('/content/drive/My Drive/Data/train/normal/10.png'),\n",
              "  PosixPath('/content/drive/My Drive/Data/train/normal/11 - Copy (2) - Copy.png'),\n",
              "  PosixPath('/content/drive/My Drive/Data/train/normal/11 (2).png'),\n",
              "  PosixPath('/content/drive/My Drive/Data/train/normal/11 - Copy (2).png'),\n",
              "  PosixPath('/content/drive/My Drive/Data/train/normal/11 - Copy - Copy.png'),\n",
              "  PosixPath('/content/drive/My Drive/Data/train/normal/11 - Copy.png'),\n",
              "  PosixPath('/content/drive/My Drive/Data/train/normal/11 - Copy (3).png'),\n",
              "  PosixPath('/content/drive/My Drive/Data/train/normal/11.png'),\n",
              "  PosixPath('/content/drive/My Drive/Data/train/normal/12 (2) - Copy.png'),\n",
              "  PosixPath('/content/drive/My Drive/Data/train/normal/12 - Copy (2) - Copy.png'),\n",
              "  PosixPath('/content/drive/My Drive/Data/train/normal/12 (2).png'),\n",
              "  PosixPath('/content/drive/My Drive/Data/train/normal/12 - Copy (2).png'),\n",
              "  PosixPath('/content/drive/My Drive/Data/train/normal/12 - Copy.png'),\n",
              "  PosixPath('/content/drive/My Drive/Data/train/normal/12 - Copy - Copy.png'),\n",
              "  PosixPath('/content/drive/My Drive/Data/train/normal/12 - Copy (3).png'),\n",
              "  PosixPath('/content/drive/My Drive/Data/train/normal/12.png'),\n",
              "  PosixPath('/content/drive/My Drive/Data/train/normal/13 (2).png'),\n",
              "  PosixPath('/content/drive/My Drive/Data/train/normal/13 (2) - Copy.png'),\n",
              "  PosixPath('/content/drive/My Drive/Data/train/normal/13 - Copy (2).png'),\n",
              "  PosixPath('/content/drive/My Drive/Data/train/normal/13 - Copy (2) - Copy.png'),\n",
              "  PosixPath('/content/drive/My Drive/Data/train/normal/13 - Copy (3).png'),\n",
              "  PosixPath('/content/drive/My Drive/Data/train/normal/13 - Copy - Copy.png'),\n",
              "  PosixPath('/content/drive/My Drive/Data/train/normal/13 - Copy.png'),\n",
              "  PosixPath('/content/drive/My Drive/Data/train/normal/16 (2) - Copy.png'),\n",
              "  PosixPath('/content/drive/My Drive/Data/train/normal/13.png'),\n",
              "  PosixPath('/content/drive/My Drive/Data/train/normal/16 - Copy (2) - Copy.png'),\n",
              "  PosixPath('/content/drive/My Drive/Data/train/normal/16 (2).png'),\n",
              "  PosixPath('/content/drive/My Drive/Data/train/normal/16 - Copy (3).png'),\n",
              "  PosixPath('/content/drive/My Drive/Data/train/normal/16 - Copy (2).png'),\n",
              "  PosixPath('/content/drive/My Drive/Data/train/normal/16 - Copy - Copy.png'),\n",
              "  PosixPath('/content/drive/My Drive/Data/train/normal/16 - Copy.png'),\n",
              "  PosixPath('/content/drive/My Drive/Data/train/normal/16.png'),\n",
              "  PosixPath('/content/drive/My Drive/Data/train/normal/17 (2) - Copy.png'),\n",
              "  PosixPath('/content/drive/My Drive/Data/train/normal/17 (2).png'),\n",
              "  PosixPath('/content/drive/My Drive/Data/train/normal/17 - Copy (2) - Copy.png'),\n",
              "  PosixPath('/content/drive/My Drive/Data/train/normal/17 - Copy (3).png'),\n",
              "  PosixPath('/content/drive/My Drive/Data/train/normal/17 - Copy (2).png'),\n",
              "  PosixPath('/content/drive/My Drive/Data/train/normal/17 - Copy - Copy.png'),\n",
              "  PosixPath('/content/drive/My Drive/Data/train/normal/17.png'),\n",
              "  PosixPath('/content/drive/My Drive/Data/train/normal/17 - Copy.png'),\n",
              "  PosixPath('/content/drive/My Drive/Data/train/normal/18 (2).png'),\n",
              "  PosixPath('/content/drive/My Drive/Data/train/normal/18 (2) - Copy.png'),\n",
              "  PosixPath('/content/drive/My Drive/Data/train/normal/18 - Copy (2) - Copy.png'),\n",
              "  PosixPath('/content/drive/My Drive/Data/train/normal/18 - Copy (2).png'),\n",
              "  PosixPath('/content/drive/My Drive/Data/train/normal/18 - Copy (3).png'),\n",
              "  PosixPath('/content/drive/My Drive/Data/train/normal/18 - Copy - Copy.png'),\n",
              "  PosixPath('/content/drive/My Drive/Data/train/normal/18 - Copy.png'),\n",
              "  PosixPath('/content/drive/My Drive/Data/train/normal/18.png'),\n",
              "  PosixPath('/content/drive/My Drive/Data/train/normal/19 (2).png'),\n",
              "  PosixPath('/content/drive/My Drive/Data/train/normal/19 (2) - Copy.png'),\n",
              "  PosixPath('/content/drive/My Drive/Data/train/normal/19 - Copy (2).png'),\n",
              "  PosixPath('/content/drive/My Drive/Data/train/normal/19 - Copy (2) - Copy.png'),\n",
              "  PosixPath('/content/drive/My Drive/Data/train/normal/19 - Copy (3).png'),\n",
              "  PosixPath('/content/drive/My Drive/Data/train/normal/19 - Copy - Copy.png'),\n",
              "  PosixPath('/content/drive/My Drive/Data/train/normal/19.png'),\n",
              "  PosixPath('/content/drive/My Drive/Data/train/normal/19 - Copy.png'),\n",
              "  PosixPath('/content/drive/My Drive/Data/train/normal/2 - Copy (2) - Copy.png'),\n",
              "  PosixPath('/content/drive/My Drive/Data/train/normal/2 (2).png'),\n",
              "  PosixPath('/content/drive/My Drive/Data/train/normal/2 (2) - Copy.png'),\n",
              "  PosixPath('/content/drive/My Drive/Data/train/normal/2 - Copy (2).png'),\n",
              "  PosixPath('/content/drive/My Drive/Data/train/normal/2 - Copy - Copy.png'),\n",
              "  PosixPath('/content/drive/My Drive/Data/train/normal/2 - Copy (3).png'),\n",
              "  PosixPath('/content/drive/My Drive/Data/train/normal/2.png'),\n",
              "  PosixPath('/content/drive/My Drive/Data/train/normal/2 - Copy.png'),\n",
              "  PosixPath('/content/drive/My Drive/Data/train/normal/20 (2) - Copy.png'),\n",
              "  PosixPath('/content/drive/My Drive/Data/train/normal/20 (2).png'),\n",
              "  PosixPath('/content/drive/My Drive/Data/train/normal/20 - Copy (2) - Copy.png'),\n",
              "  PosixPath('/content/drive/My Drive/Data/train/normal/20 - Copy (3).png'),\n",
              "  PosixPath('/content/drive/My Drive/Data/train/normal/20 - Copy - Copy.png'),\n",
              "  PosixPath('/content/drive/My Drive/Data/train/normal/20 - Copy (2).png'),\n",
              "  PosixPath('/content/drive/My Drive/Data/train/normal/20.png'),\n",
              "  PosixPath('/content/drive/My Drive/Data/train/normal/21 - Copy (2) - Copy.png'),\n",
              "  PosixPath('/content/drive/My Drive/Data/train/normal/20 - Copy.png'),\n",
              "  PosixPath('/content/drive/My Drive/Data/train/normal/21 - Copy - Copy.png'),\n",
              "  PosixPath('/content/drive/My Drive/Data/train/normal/21 - Copy (2).png'),\n",
              "  PosixPath('/content/drive/My Drive/Data/train/normal/21 - Copy.png'),\n",
              "  PosixPath('/content/drive/My Drive/Data/train/normal/3 (2).png'),\n",
              "  PosixPath('/content/drive/My Drive/Data/train/normal/3 (2) - Copy.png'),\n",
              "  PosixPath('/content/drive/My Drive/Data/train/normal/3 - Copy (2).png'),\n",
              "  PosixPath('/content/drive/My Drive/Data/train/normal/3 - Copy (2) - Copy.png'),\n",
              "  PosixPath('/content/drive/My Drive/Data/train/normal/3 - Copy - Copy.png'),\n",
              "  PosixPath('/content/drive/My Drive/Data/train/normal/3 - Copy (3).png'),\n",
              "  PosixPath('/content/drive/My Drive/Data/train/normal/3 - Copy.png'),\n",
              "  PosixPath('/content/drive/My Drive/Data/train/normal/3.png'),\n",
              "  PosixPath('/content/drive/My Drive/Data/train/normal/4 (2).png'),\n",
              "  PosixPath('/content/drive/My Drive/Data/train/normal/4 (2) - Copy.png'),\n",
              "  PosixPath('/content/drive/My Drive/Data/train/normal/4 - Copy (2).png'),\n",
              "  PosixPath('/content/drive/My Drive/Data/train/normal/4 - Copy (2) - Copy.png'),\n",
              "  PosixPath('/content/drive/My Drive/Data/train/normal/4 - Copy (3).png'),\n",
              "  PosixPath('/content/drive/My Drive/Data/train/normal/4 - Copy - Copy.png'),\n",
              "  PosixPath('/content/drive/My Drive/Data/train/normal/4 - Copy.png'),\n",
              "  PosixPath('/content/drive/My Drive/Data/train/normal/4.png'),\n",
              "  PosixPath('/content/drive/My Drive/Data/train/normal/5 (2).png'),\n",
              "  PosixPath('/content/drive/My Drive/Data/train/normal/5 (2) - Copy.png'),\n",
              "  PosixPath('/content/drive/My Drive/Data/train/normal/5 - Copy (2).png'),\n",
              "  PosixPath('/content/drive/My Drive/Data/train/normal/5 - Copy (2) - Copy.png'),\n",
              "  PosixPath('/content/drive/My Drive/Data/train/normal/5 - Copy.png'),\n",
              "  PosixPath('/content/drive/My Drive/Data/train/normal/5 - Copy - Copy.png'),\n",
              "  PosixPath('/content/drive/My Drive/Data/train/normal/5 - Copy (3).png'),\n",
              "  PosixPath('/content/drive/My Drive/Data/train/normal/5.png'),\n",
              "  PosixPath('/content/drive/My Drive/Data/train/normal/6 (2) - Copy.png'),\n",
              "  PosixPath('/content/drive/My Drive/Data/train/normal/6 (2).png'),\n",
              "  PosixPath('/content/drive/My Drive/Data/train/normal/6 - Copy (2) - Copy.png'),\n",
              "  PosixPath('/content/drive/My Drive/Data/train/normal/6 - Copy (2).png'),\n",
              "  PosixPath('/content/drive/My Drive/Data/train/normal/6 - Copy (3).png'),\n",
              "  PosixPath('/content/drive/My Drive/Data/train/normal/6 - Copy - Copy.png'),\n",
              "  PosixPath('/content/drive/My Drive/Data/train/normal/6 - Copy.png'),\n",
              "  PosixPath('/content/drive/My Drive/Data/train/normal/7 (2) - Copy.png'),\n",
              "  PosixPath('/content/drive/My Drive/Data/train/normal/6.png'),\n",
              "  PosixPath('/content/drive/My Drive/Data/train/normal/7 (2).png'),\n",
              "  PosixPath('/content/drive/My Drive/Data/train/normal/7 - Copy (2) - Copy.png'),\n",
              "  PosixPath('/content/drive/My Drive/Data/train/normal/7 - Copy (3).png'),\n",
              "  PosixPath('/content/drive/My Drive/Data/train/normal/7 - Copy (2).png'),\n",
              "  PosixPath('/content/drive/My Drive/Data/train/normal/7 - Copy.png'),\n",
              "  PosixPath('/content/drive/My Drive/Data/train/normal/7 - Copy - Copy.png'),\n",
              "  PosixPath('/content/drive/My Drive/Data/train/normal/7.png'),\n",
              "  PosixPath('/content/drive/My Drive/Data/train/normal/8 (2).png'),\n",
              "  PosixPath('/content/drive/My Drive/Data/train/normal/8 (2) - Copy.png'),\n",
              "  PosixPath('/content/drive/My Drive/Data/train/normal/8 - Copy (2).png'),\n",
              "  PosixPath('/content/drive/My Drive/Data/train/normal/8 - Copy (2) - Copy.png'),\n",
              "  PosixPath('/content/drive/My Drive/Data/train/normal/8 - Copy - Copy.png'),\n",
              "  PosixPath('/content/drive/My Drive/Data/train/normal/8 - Copy (3).png'),\n",
              "  PosixPath('/content/drive/My Drive/Data/train/normal/8.png'),\n",
              "  PosixPath('/content/drive/My Drive/Data/train/normal/8 - Copy.png'),\n",
              "  PosixPath('/content/drive/My Drive/Data/train/normal/n7 - Copy.png'),\n",
              "  PosixPath('/content/drive/My Drive/Data/train/normal/n7 (2).png'),\n",
              "  PosixPath('/content/drive/My Drive/Data/train/normal/n7 (2) - Copy.png'),\n",
              "  PosixPath('/content/drive/My Drive/Data/train/normal/n7.png')],\n",
              " 'squamous_cell_carcinoma': []}"
            ]
          },
          "metadata": {},
          "execution_count": 9
        }
      ],
      "source": [
        "#resizing and creating labels using computer vision\n",
        "resized,labels=[],[]\n",
        "for lung_name,images in lung_images_dict.items():\n",
        "    for image in images:\n",
        "        print(\"completed\")\n",
        "        img=cv2.imread(str(image))\n",
        "        resized_image=cv2.resize(img,(224,224))\n",
        "        resized.append(resized_image)\n",
        "        labels.append(keys.index(lung_name))\n",
        "lung_images_dict"
      ]
    },
    {
      "cell_type": "code",
      "execution_count": null,
      "metadata": {
        "id": "zPBxcxuZ75F6"
      },
      "outputs": [],
      "source": [
        "#function to print images\n",
        "def print_image(i,j):\n",
        "    plt.imshow(i)\n",
        "    plt.title(keys[j])"
      ]
    },
    {
      "cell_type": "code",
      "execution_count": null,
      "metadata": {
        "id": "xYknOTgC75F6"
      },
      "outputs": [],
      "source": [
        "#splitting data into train and test\n",
        "#if any integer is given to random_state it will generate and give same set of data each time we run the code and if we give \n",
        "#None different sequences will be generated\n",
        "from sklearn.model_selection import train_test_split\n",
        "x_train,x_test,y_train,y_test=train_test_split(resized,labels,test_size=0.25,random_state=0)"
      ]
    },
    {
      "cell_type": "code",
      "execution_count": null,
      "metadata": {
        "id": "b4KuqDaU75F6",
        "colab": {
          "base_uri": "https://localhost:8080/",
          "height": 281
        },
        "outputId": "7fd6d8e7-30e3-4f88-b8d3-8eac6a67607c"
      },
      "outputs": [
        {
          "output_type": "display_data",
          "data": {
            "text/plain": [
              "<Figure size 432x288 with 1 Axes>"
            ],
            "image/png": "[encoded data removed]"
          },
          "metadata": {
            "needs_background": "light"
          }
        }
      ],
      "source": [
        "print_image(x_train[15],y_train[15])"
      ]
    },
    {
      "cell_type": "code",
      "execution_count": null,
      "metadata": {
        "id": "_0AG6lnE75F6",
        "colab": {
          "base_uri": "https://localhost:8080/",
          "height": 281
        },
        "outputId": "870b0d2f-0c0d-461a-9703-bcc4a68b4e13"
      },
      "outputs": [
        {
          "output_type": "display_data",
          "data": {
            "text/plain": [
              "<Figure size 432x288 with 1 Axes>"
            ],
            "image/png": "[encoded data removed]"
          },
          "metadata": {
            "needs_background": "light"
          }
        }
      ],
      "source": [
        "print_image(x_test[6],y_test[6])"
      ]
    },
    {
      "cell_type": "code",
      "execution_count": null,
      "metadata": {
        "id": "J4Dl2oWK75F7"
      },
      "outputs": [],
      "source": [
        "#normalizing data\n",
        "x_train_scaled=np.array(x_train)/255\n",
        "x_test_scaled=np.array(x_test)/255"
      ]
    },
    {
      "cell_type": "code",
      "execution_count": null,
      "metadata": {
        "id": "cggoRc9N75F7",
        "colab": {
          "base_uri": "https://localhost:8080/"
        },
        "outputId": "2a050dda-b131-46ba-b136-a0460e997b6d"
      },
      "outputs": [
        {
          "output_type": "execute_result",
          "data": {
            "text/plain": [
              "(340, 224, 224, 3)"
            ]
          },
          "metadata": {},
          "execution_count": 16
        }
      ],
      "source": [
        "x_train_scaled.shape"
      ]
    },
    {
      "cell_type": "code",
      "execution_count": null,
      "metadata": {
        "id": "LiE2vKEe75F7",
        "colab": {
          "base_uri": "https://localhost:8080/"
        },
        "outputId": "f8fa90ad-fafc-4dde-b68d-7d5ee4ce3c82"
      },
      "outputs": [
        {
          "output_type": "execute_result",
          "data": {
            "text/plain": [
              "(340,)"
            ]
          },
          "metadata": {},
          "execution_count": 17
        }
      ],
      "source": [
        "y_train=np.array(y_train)\n",
        "y_train.shape"
      ]
    },
    {
      "cell_type": "raw",
      "metadata": {
        "id": "ICZhPT9z75F8"
      },
      "source": [
        "#Simple CNN Model"
      ]
    },
    {
      "cell_type": "code",
      "execution_count": null,
      "metadata": {
        "id": "Wh6tmoYG75F8"
      },
      "outputs": [],
      "source": [
        "model=models.Sequential([\n",
        "    layers.Conv2D(16,3,padding='same',activation='relu'),\n",
        "    layers.MaxPooling2D(),\n",
        "    layers.Flatten(),\n",
        "    layers.Dense(200,activation=\"relu\"),\n",
        "    layers.Dense(4,activation=\"softmax\")])\n",
        "model.compile(\n",
        "optimizer=\"adam\",loss=\"sparse_categorical_crossentropy\",metrics=[\"accuracy\"])"
      ]
    },
    {
      "cell_type": "code",
      "execution_count": null,
      "metadata": {
        "id": "9y3zn-Y775F8",
        "colab": {
          "base_uri": "https://localhost:8080/"
        },
        "outputId": "3493ad99-b76f-485a-d83a-0bcacdeec8cf"
      },
      "outputs": [
        {
          "output_type": "stream",
          "name": "stdout",
          "text": [
            "Epoch 1/10\n",
            "11/11 [==============================] - 11s 922ms/step - loss: 11.1463 - accuracy: 0.4029\n",
            "Epoch 2/10\n",
            "11/11 [==============================] - 10s 910ms/step - loss: 2.0135 - accuracy: 0.6059\n",
            "Epoch 3/10\n",
            "11/11 [==============================] - 10s 884ms/step - loss: 0.3546 - accuracy: 0.8676\n",
            "Epoch 4/10\n",
            "11/11 [==============================] - 10s 889ms/step - loss: 0.1696 - accuracy: 0.9529\n",
            "Epoch 5/10\n",
            "11/11 [==============================] - 10s 890ms/step - loss: 0.0560 - accuracy: 1.0000\n",
            "Epoch 6/10\n",
            "11/11 [==============================] - 10s 899ms/step - loss: 0.0144 - accuracy: 1.0000\n",
            "Epoch 7/10\n",
            "11/11 [==============================] - 11s 1s/step - loss: 0.0045 - accuracy: 1.0000\n",
            "Epoch 8/10\n",
            "11/11 [==============================] - 12s 1s/step - loss: 0.0016 - accuracy: 1.0000\n",
            "Epoch 9/10\n",
            "11/11 [==============================] - 10s 911ms/step - loss: 8.6232e-04 - accuracy: 1.0000\n",
            "Epoch 10/10\n",
            "11/11 [==============================] - 10s 912ms/step - loss: 5.2377e-04 - accuracy: 1.0000\n"
          ]
        },
        {
          "output_type": "execute_result",
          "data": {
            "text/plain": [
              "<keras.callbacks.History at 0x7f2bd2e50550>"
            ]
          },
          "metadata": {},
          "execution_count": 19
        }
      ],
      "source": [
        "model.fit(x_train_scaled,np.array(y_train),epochs=10)"
      ]
    },
    {
      "cell_type": "code",
      "execution_count": null,
      "metadata": {
        "id": "qrMxlm3n75F8",
        "colab": {
          "base_uri": "https://localhost:8080/"
        },
        "outputId": "ef63cf90-e902-463d-adf7-8ad9cbb13097"
      },
      "outputs": [
        {
          "output_type": "stream",
          "name": "stdout",
          "text": [
            "4/4 [==============================] - 2s 269ms/step - loss: 0.3505 - accuracy: 0.8860\n"
          ]
        },
        {
          "output_type": "execute_result",
          "data": {
            "text/plain": [
              "[0.350538045167923, 0.8859649300575256]"
            ]
          },
          "metadata": {},
          "execution_count": 20
        }
      ],
      "source": [
        "model.evaluate(x_test_scaled,np.array(y_test))"
      ]
    },
    {
      "cell_type": "code",
      "execution_count": null,
      "metadata": {
        "id": "0lzZ5t7c75F9"
      },
      "outputs": [],
      "source": [
        "model1=models.Sequential([\n",
        "    layers.experimental.preprocessing.RandomZoom(0.3),\n",
        "    layers.Conv2D(16,3,padding='same',activation='relu'),\n",
        "    layers.MaxPooling2D(),\n",
        "    layers.Conv2D(16,3,padding='same',activation='relu'),\n",
        "    layers.Flatten(),\n",
        "    layers.Dense(128,activation=\"relu\"),\n",
        "    layers.Dropout(0.6),\n",
        "    layers.Dense(512,activation=\"relu\"),\n",
        "    layers.Dropout(0.3),\n",
        "    layers.Dense(4,activation=\"softmax\")\n",
        "    #layers.Dense(2,kernel_regularizer=l2(0.01),activation=\"softmax\")\n",
        "])\n",
        "model1.compile(\n",
        "optimizer=\"adam\",loss=\"sparse_categorical_crossentropy\",metrics=[\"accuracy\"])"
      ]
    },
    {
      "cell_type": "code",
      "execution_count": null,
      "metadata": {
        "id": "SjBeLswr75F9",
        "colab": {
          "base_uri": "https://localhost:8080/"
        },
        "outputId": "0924afbe-d7fd-4049-a67f-a1cdd03e1abe"
      },
      "outputs": [
        {
          "output_type": "stream",
          "name": "stdout",
          "text": [
            "Epoch 1/15\n"
          ]
        },
        {
          "output_type": "stream",
          "name": "stderr",
          "text": [
            "WARNING:tensorflow:Using a while_loop for converting RngReadAndSkip cause there is no registered converter for this op.\n",
            "WARNING:tensorflow:Using a while_loop for converting Bitcast cause there is no registered converter for this op.\n",
            "WARNING:tensorflow:Using a while_loop for converting Bitcast cause there is no registered converter for this op.\n",
            "WARNING:tensorflow:Using a while_loop for converting StatelessRandomUniformV2 cause there is no registered converter for this op.\n",
            "WARNING:tensorflow:Using a while_loop for converting ImageProjectiveTransformV3 cause there is no registered converter for this op.\n",
            "WARNING:tensorflow:Using a while_loop for converting RngReadAndSkip cause there is no registered converter for this op.\n",
            "WARNING:tensorflow:Using a while_loop for converting Bitcast cause there is no registered converter for this op.\n",
            "WARNING:tensorflow:Using a while_loop for converting Bitcast cause there is no registered converter for this op.\n",
            "WARNING:tensorflow:Using a while_loop for converting StatelessRandomUniformV2 cause there is no registered converter for this op.\n",
            "WARNING:tensorflow:Using a while_loop for converting ImageProjectiveTransformV3 cause there is no registered converter for this op.\n",
            "WARNING:tensorflow:Using a while_loop for converting RngReadAndSkip cause there is no registered converter for this op.\n",
            "WARNING:tensorflow:Using a while_loop for converting Bitcast cause there is no registered converter for this op.\n",
            "WARNING:tensorflow:Using a while_loop for converting Bitcast cause there is no registered converter for this op.\n",
            "WARNING:tensorflow:Using a while_loop for converting StatelessRandomUniformV2 cause there is no registered converter for this op.\n",
            "WARNING:tensorflow:Using a while_loop for converting ImageProjectiveTransformV3 cause there is no registered converter for this op.\n"
          ]
        },
        {
          "output_type": "stream",
          "name": "stdout",
          "text": [
            "11/11 [==============================] - 16s 1s/step - loss: 3.7070 - accuracy: 0.2971\n",
            "Epoch 2/15\n",
            "11/11 [==============================] - 14s 1s/step - loss: 1.2798 - accuracy: 0.4882\n",
            "Epoch 3/15\n",
            "11/11 [==============================] - 13s 1s/step - loss: 1.1626 - accuracy: 0.4000\n",
            "Epoch 4/15\n",
            "11/11 [==============================] - 13s 1s/step - loss: 0.9949 - accuracy: 0.5206\n",
            "Epoch 5/15\n",
            "11/11 [==============================] - 13s 1s/step - loss: 0.8412 - accuracy: 0.5765\n",
            "Epoch 6/15\n",
            "11/11 [==============================] - 14s 1s/step - loss: 0.7492 - accuracy: 0.6324\n",
            "Epoch 7/15\n",
            "11/11 [==============================] - 13s 1s/step - loss: 0.7027 - accuracy: 0.6971\n",
            "Epoch 8/15\n",
            "11/11 [==============================] - 13s 1s/step - loss: 0.5904 - accuracy: 0.7382\n",
            "Epoch 9/15\n",
            "11/11 [==============================] - 13s 1s/step - loss: 0.5649 - accuracy: 0.7500\n",
            "Epoch 10/15\n",
            "11/11 [==============================] - 13s 1s/step - loss: 0.5150 - accuracy: 0.7618\n",
            "Epoch 11/15\n",
            "11/11 [==============================] - 17s 2s/step - loss: 0.5022 - accuracy: 0.7882\n",
            "Epoch 12/15\n",
            "11/11 [==============================] - 14s 1s/step - loss: 0.4585 - accuracy: 0.8265\n",
            "Epoch 13/15\n",
            "11/11 [==============================] - 13s 1s/step - loss: 0.3719 - accuracy: 0.8500\n",
            "Epoch 14/15\n",
            "11/11 [==============================] - 13s 1s/step - loss: 0.3948 - accuracy: 0.8441\n",
            "Epoch 15/15\n",
            "11/11 [==============================] - 13s 1s/step - loss: 0.3596 - accuracy: 0.8471\n"
          ]
        },
        {
          "output_type": "execute_result",
          "data": {
            "text/plain": [
              "<keras.callbacks.History at 0x7f2bd79c2850>"
            ]
          },
          "metadata": {},
          "execution_count": 22
        }
      ],
      "source": [
        "model1.fit(x_train_scaled,np.array(y_train),epochs=15)"
      ]
    },
    {
      "cell_type": "code",
      "execution_count": null,
      "metadata": {
        "id": "Oal8ghtE75F-",
        "colab": {
          "base_uri": "https://localhost:8080/"
        },
        "outputId": "8ab8f2dc-e011-4737-8d50-c542eea1e25e"
      },
      "outputs": [
        {
          "output_type": "stream",
          "name": "stdout",
          "text": [
            "4/4 [==============================] - 1s 320ms/step - loss: 0.2924 - accuracy: 0.8860\n"
          ]
        },
        {
          "output_type": "execute_result",
          "data": {
            "text/plain": [
              "[0.29240092635154724, 0.8859649300575256]"
            ]
          },
          "metadata": {},
          "execution_count": 23
        }
      ],
      "source": [
        "model1.evaluate(x_test_scaled,np.array(y_test))"
      ]
    },
    {
      "cell_type": "markdown",
      "metadata": {
        "id": "p90hBJlOA0r5"
      },
      "source": [
        "#CNN Model with only Dropout layers"
      ]
    },
    {
      "cell_type": "raw",
      "metadata": {
        "id": "8agljnqs75F_"
      },
      "source": [
        "#CNN Model only with Augumentation layers"
      ]
    },
    {
      "cell_type": "code",
      "execution_count": null,
      "metadata": {
        "id": "SwRjvyP-75F_"
      },
      "outputs": [],
      "source": [
        "model3=models.Sequential([\n",
        "    layers.experimental.preprocessing.RandomZoom(0.3),\n",
        "    layers.Conv2D(16,3,padding='same',activation='relu'),\n",
        "    layers.MaxPooling2D(),\n",
        "    layers.Flatten(),\n",
        "    layers.Dense(128,activation=\"relu\"),\n",
        "    layers.Dropout(0.3),\n",
        "    layers.Dense(64,activation=\"relu\"),\n",
        "    layers.Dense(32,activation=\"relu\"),\n",
        "    layers.Dense(16,activation=\"relu\"),\n",
        "    layers.Dense(4,activation=\"softmax\")\n",
        "])\n",
        "model3.compile(\n",
        "optimizer=\"adam\",loss=\"sparse_categorical_crossentropy\",metrics=[\"accuracy\"])"
      ]
    },
    {
      "cell_type": "code",
      "execution_count": null,
      "metadata": {
        "id": "mpN1JZy775GA",
        "colab": {
          "base_uri": "https://localhost:8080/"
        },
        "outputId": "0208dfba-f1da-4ce0-c22e-9729b511b24d"
      },
      "outputs": [
        {
          "output_type": "stream",
          "name": "stdout",
          "text": [
            "Epoch 1/20\n"
          ]
        },
        {
          "output_type": "stream",
          "name": "stderr",
          "text": [
            "WARNING:tensorflow:Using a while_loop for converting RngReadAndSkip cause there is no registered converter for this op.\n",
            "WARNING:tensorflow:Using a while_loop for converting Bitcast cause there is no registered converter for this op.\n",
            "WARNING:tensorflow:Using a while_loop for converting Bitcast cause there is no registered converter for this op.\n",
            "WARNING:tensorflow:Using a while_loop for converting StatelessRandomUniformV2 cause there is no registered converter for this op.\n",
            "WARNING:tensorflow:Using a while_loop for converting ImageProjectiveTransformV3 cause there is no registered converter for this op.\n",
            "WARNING:tensorflow:Using a while_loop for converting RngReadAndSkip cause there is no registered converter for this op.\n",
            "WARNING:tensorflow:Using a while_loop for converting Bitcast cause there is no registered converter for this op.\n",
            "WARNING:tensorflow:Using a while_loop for converting Bitcast cause there is no registered converter for this op.\n",
            "WARNING:tensorflow:Using a while_loop for converting StatelessRandomUniformV2 cause there is no registered converter for this op.\n",
            "WARNING:tensorflow:Using a while_loop for converting ImageProjectiveTransformV3 cause there is no registered converter for this op.\n",
            "WARNING:tensorflow:Using a while_loop for converting RngReadAndSkip cause there is no registered converter for this op.\n",
            "WARNING:tensorflow:Using a while_loop for converting Bitcast cause there is no registered converter for this op.\n",
            "WARNING:tensorflow:Using a while_loop for converting Bitcast cause there is no registered converter for this op.\n",
            "WARNING:tensorflow:Using a while_loop for converting StatelessRandomUniformV2 cause there is no registered converter for this op.\n",
            "WARNING:tensorflow:Using a while_loop for converting ImageProjectiveTransformV3 cause there is no registered converter for this op.\n"
          ]
        },
        {
          "output_type": "stream",
          "name": "stdout",
          "text": [
            "11/11 [==============================] - 13s 917ms/step - loss: 1.9773 - accuracy: 0.3294\n",
            "Epoch 2/20\n",
            "11/11 [==============================] - 10s 880ms/step - loss: 1.3737 - accuracy: 0.3588\n",
            "Epoch 3/20\n",
            "11/11 [==============================] - 10s 889ms/step - loss: 1.1267 - accuracy: 0.3765\n",
            "Epoch 4/20\n",
            "11/11 [==============================] - 10s 876ms/step - loss: 1.0507 - accuracy: 0.4118\n",
            "Epoch 5/20\n",
            "11/11 [==============================] - 10s 876ms/step - loss: 1.0107 - accuracy: 0.4265\n",
            "Epoch 6/20\n",
            "11/11 [==============================] - 10s 905ms/step - loss: 0.9492 - accuracy: 0.5118\n",
            "Epoch 7/20\n",
            "11/11 [==============================] - 12s 1s/step - loss: 0.8710 - accuracy: 0.5824\n",
            "Epoch 8/20\n",
            "11/11 [==============================] - 10s 891ms/step - loss: 0.7897 - accuracy: 0.6471\n",
            "Epoch 9/20\n",
            "11/11 [==============================] - 11s 1s/step - loss: 0.6733 - accuracy: 0.6912\n",
            "Epoch 10/20\n",
            "11/11 [==============================] - 10s 908ms/step - loss: 0.8168 - accuracy: 0.6088\n",
            "Epoch 11/20\n",
            "11/11 [==============================] - 12s 1s/step - loss: 0.7140 - accuracy: 0.6676\n",
            "Epoch 12/20\n",
            "11/11 [==============================] - 10s 896ms/step - loss: 0.6024 - accuracy: 0.7235\n",
            "Epoch 13/20\n",
            "11/11 [==============================] - 10s 906ms/step - loss: 0.5280 - accuracy: 0.7529\n",
            "Epoch 14/20\n",
            "11/11 [==============================] - 12s 1s/step - loss: 0.4970 - accuracy: 0.7794\n",
            "Epoch 15/20\n",
            "11/11 [==============================] - 12s 1s/step - loss: 0.5226 - accuracy: 0.7618\n",
            "Epoch 16/20\n",
            "11/11 [==============================] - 10s 885ms/step - loss: 0.4516 - accuracy: 0.8235\n",
            "Epoch 17/20\n",
            "11/11 [==============================] - 10s 895ms/step - loss: 0.3866 - accuracy: 0.8735\n",
            "Epoch 18/20\n",
            "11/11 [==============================] - 10s 897ms/step - loss: 0.3803 - accuracy: 0.8529\n",
            "Epoch 19/20\n",
            "11/11 [==============================] - 10s 895ms/step - loss: 0.3221 - accuracy: 0.8529\n",
            "Epoch 20/20\n",
            "11/11 [==============================] - 10s 899ms/step - loss: 0.2944 - accuracy: 0.8912\n"
          ]
        },
        {
          "output_type": "execute_result",
          "data": {
            "text/plain": [
              "<keras.callbacks.History at 0x7f2bd3120e10>"
            ]
          },
          "metadata": {},
          "execution_count": 28
        }
      ],
      "source": [
        "model3.fit(x_train_scaled,np.array(y_train),epochs=20)"
      ]
    },
    {
      "cell_type": "code",
      "execution_count": null,
      "metadata": {
        "id": "ycZBCdJ075GA",
        "colab": {
          "base_uri": "https://localhost:8080/"
        },
        "outputId": "ba4878de-2007-48e1-e50a-015667a648b2"
      },
      "outputs": [
        {
          "output_type": "stream",
          "name": "stdout",
          "text": [
            "4/4 [==============================] - 1s 247ms/step - loss: 0.2676 - accuracy: 0.8860\n"
          ]
        },
        {
          "output_type": "execute_result",
          "data": {
            "text/plain": [
              "[0.26757165789604187, 0.8859649300575256]"
            ]
          },
          "metadata": {},
          "execution_count": 29
        }
      ],
      "source": [
        "model3.evaluate(x_test_scaled,np.array(y_test))"
      ]
    },
    {
      "cell_type": "code",
      "execution_count": null,
      "metadata": {
        "id": "BYUCVwAb75GA"
      },
      "outputs": [],
      "source": [
        "model4=models.Sequential([\n",
        "    layers.experimental.preprocessing.RandomZoom(0.3),\n",
        "    layers.experimental.preprocessing.RandomFlip(mode=\"horizontal_and_vertical\"),\n",
        "    layers.Conv2D(16,3,padding='same',activation='relu'),\n",
        "    layers.MaxPooling2D(),\n",
        "    layers.Flatten(),\n",
        "    layers.Dense(128,activation=\"relu\"),\n",
        "    layers.Dense(64,activation=\"relu\"),\n",
        "    layers.Dense(5,activation=\"softmax\")\n",
        "])\n",
        "model4.compile(\n",
        "optimizer=\"adam\",loss=\"sparse_categorical_crossentropy\",metrics=[\"accuracy\"])"
      ]
    },
    {
      "cell_type": "code",
      "execution_count": null,
      "metadata": {
        "id": "akpoOG_V75GA",
        "colab": {
          "base_uri": "https://localhost:8080/"
        },
        "outputId": "59248920-27ec-497b-fce0-688f1b3da130"
      },
      "outputs": [
        {
          "output_type": "stream",
          "name": "stdout",
          "text": [
            "Epoch 1/8\n"
          ]
        },
        {
          "output_type": "stream",
          "name": "stderr",
          "text": [
            "WARNING:tensorflow:Using a while_loop for converting RngReadAndSkip cause there is no registered converter for this op.\n",
            "WARNING:tensorflow:Using a while_loop for converting Bitcast cause there is no registered converter for this op.\n",
            "WARNING:tensorflow:Using a while_loop for converting Bitcast cause there is no registered converter for this op.\n",
            "WARNING:tensorflow:Using a while_loop for converting StatelessRandomUniformV2 cause there is no registered converter for this op.\n",
            "WARNING:tensorflow:Using a while_loop for converting ImageProjectiveTransformV3 cause there is no registered converter for this op.\n",
            "WARNING:tensorflow:Using a while_loop for converting RngReadAndSkip cause there is no registered converter for this op.\n",
            "WARNING:tensorflow:Using a while_loop for converting Bitcast cause there is no registered converter for this op.\n",
            "WARNING:tensorflow:Using a while_loop for converting Bitcast cause there is no registered converter for this op.\n",
            "WARNING:tensorflow:Using a while_loop for converting StatelessRandomUniformV2 cause there is no registered converter for this op.\n",
            "WARNING:tensorflow:Using a while_loop for converting ImageProjectiveTransformV3 cause there is no registered converter for this op.\n",
            "WARNING:tensorflow:Using a while_loop for converting RngReadAndSkip cause there is no registered converter for this op.\n",
            "WARNING:tensorflow:Using a while_loop for converting Bitcast cause there is no registered converter for this op.\n",
            "WARNING:tensorflow:Using a while_loop for converting Bitcast cause there is no registered converter for this op.\n",
            "WARNING:tensorflow:Using a while_loop for converting StatelessRandomUniformV2 cause there is no registered converter for this op.\n",
            "WARNING:tensorflow:Using a while_loop for converting ImageProjectiveTransformV3 cause there is no registered converter for this op.\n"
          ]
        },
        {
          "output_type": "stream",
          "name": "stdout",
          "text": [
            "11/11 [==============================] - 13s 932ms/step - loss: 6.3341 - accuracy: 0.3735\n",
            "Epoch 2/8\n",
            "11/11 [==============================] - 10s 922ms/step - loss: 1.6967 - accuracy: 0.4559\n",
            "Epoch 3/8\n",
            "11/11 [==============================] - 10s 913ms/step - loss: 0.9391 - accuracy: 0.5500\n",
            "Epoch 4/8\n",
            "11/11 [==============================] - 10s 913ms/step - loss: 0.8020 - accuracy: 0.6824\n",
            "Epoch 5/8\n",
            "11/11 [==============================] - 10s 915ms/step - loss: 0.6679 - accuracy: 0.7294\n",
            "Epoch 6/8\n",
            "11/11 [==============================] - 14s 1s/step - loss: 0.6758 - accuracy: 0.7294\n",
            "Epoch 7/8\n",
            "11/11 [==============================] - 10s 912ms/step - loss: 0.5227 - accuracy: 0.8059\n",
            "Epoch 8/8\n",
            "11/11 [==============================] - 10s 920ms/step - loss: 0.3826 - accuracy: 0.8971\n"
          ]
        },
        {
          "output_type": "execute_result",
          "data": {
            "text/plain": [
              "<keras.callbacks.History at 0x7f2bce66c1d0>"
            ]
          },
          "metadata": {},
          "execution_count": 31
        }
      ],
      "source": [
        "model4.fit(x_train_scaled,np.array(y_train),epochs=8)"
      ]
    },
    {
      "cell_type": "code",
      "execution_count": null,
      "metadata": {
        "id": "dVjv0t4d75GA",
        "colab": {
          "base_uri": "https://localhost:8080/"
        },
        "outputId": "3e01cc9b-0e30-480c-a525-4a03ced8fae6"
      },
      "outputs": [
        {
          "output_type": "stream",
          "name": "stdout",
          "text": [
            "4/4 [==============================] - 1s 254ms/step - loss: 0.4948 - accuracy: 0.8158\n"
          ]
        },
        {
          "output_type": "execute_result",
          "data": {
            "text/plain": [
              "[0.49484503269195557, 0.8157894611358643]"
            ]
          },
          "metadata": {},
          "execution_count": 32
        }
      ],
      "source": [
        "model4.evaluate(x_test_scaled,np.array(y_test))"
      ]
    },
    {
      "cell_type": "raw",
      "metadata": {
        "id": "lQhHPEJV75GB"
      },
      "source": [
        "#CNN Model with Data Augumentation layer and more dense layers"
      ]
    },
    {
      "cell_type": "code",
      "execution_count": null,
      "metadata": {
        "id": "kdgD2RT675GB"
      },
      "outputs": [],
      "source": [
        "model5=models.Sequential([\n",
        "    layers.experimental.preprocessing.RandomZoom(0.3),\n",
        "    layers.Conv2D(16,3,padding='same',activation='relu'),\n",
        "    layers.MaxPooling2D(),\n",
        "    layers.Flatten(),\n",
        "    layers.Dense(128,activation=\"relu\"),\n",
        "    layers.Dense(64,activation=\"relu\"),\n",
        "    layers.Dense(32,activation=\"relu\"),\n",
        "    layers.Dense(4,activation=\"softmax\")\n",
        "])\n",
        "model5.compile(\n",
        "optimizer=\"adam\",loss=\"sparse_categorical_crossentropy\",metrics=[\"accuracy\"])"
      ]
    },
    {
      "cell_type": "code",
      "execution_count": null,
      "metadata": {
        "id": "MM4tbyrW75GB",
        "colab": {
          "base_uri": "https://localhost:8080/"
        },
        "outputId": "0808f45b-8da7-44c1-d233-e426854568fc"
      },
      "outputs": [
        {
          "output_type": "stream",
          "name": "stdout",
          "text": [
            "Epoch 1/8\n"
          ]
        },
        {
          "output_type": "stream",
          "name": "stderr",
          "text": [
            "WARNING:tensorflow:Using a while_loop for converting RngReadAndSkip cause there is no registered converter for this op.\n",
            "WARNING:tensorflow:Using a while_loop for converting Bitcast cause there is no registered converter for this op.\n",
            "WARNING:tensorflow:Using a while_loop for converting Bitcast cause there is no registered converter for this op.\n",
            "WARNING:tensorflow:Using a while_loop for converting StatelessRandomUniformV2 cause there is no registered converter for this op.\n",
            "WARNING:tensorflow:Using a while_loop for converting ImageProjectiveTransformV3 cause there is no registered converter for this op.\n",
            "WARNING:tensorflow:Using a while_loop for converting RngReadAndSkip cause there is no registered converter for this op.\n",
            "WARNING:tensorflow:Using a while_loop for converting Bitcast cause there is no registered converter for this op.\n",
            "WARNING:tensorflow:Using a while_loop for converting Bitcast cause there is no registered converter for this op.\n",
            "WARNING:tensorflow:Using a while_loop for converting StatelessRandomUniformV2 cause there is no registered converter for this op.\n",
            "WARNING:tensorflow:Using a while_loop for converting ImageProjectiveTransformV3 cause there is no registered converter for this op.\n",
            "WARNING:tensorflow:Using a while_loop for converting RngReadAndSkip cause there is no registered converter for this op.\n",
            "WARNING:tensorflow:Using a while_loop for converting Bitcast cause there is no registered converter for this op.\n",
            "WARNING:tensorflow:Using a while_loop for converting Bitcast cause there is no registered converter for this op.\n",
            "WARNING:tensorflow:Using a while_loop for converting StatelessRandomUniformV2 cause there is no registered converter for this op.\n",
            "WARNING:tensorflow:Using a while_loop for converting ImageProjectiveTransformV3 cause there is no registered converter for this op.\n"
          ]
        },
        {
          "output_type": "stream",
          "name": "stdout",
          "text": [
            "11/11 [==============================] - 13s 921ms/step - loss: 4.9061 - accuracy: 0.4412\n",
            "Epoch 2/8\n",
            "11/11 [==============================] - 10s 926ms/step - loss: 1.4497 - accuracy: 0.4176\n",
            "Epoch 3/8\n",
            "11/11 [==============================] - 10s 912ms/step - loss: 0.9283 - accuracy: 0.5559\n",
            "Epoch 4/8\n",
            "11/11 [==============================] - 14s 1s/step - loss: 0.6863 - accuracy: 0.7088\n",
            "Epoch 5/8\n",
            "11/11 [==============================] - 11s 916ms/step - loss: 0.5377 - accuracy: 0.7971\n",
            "Epoch 6/8\n",
            "11/11 [==============================] - 10s 912ms/step - loss: 0.5189 - accuracy: 0.7735\n",
            "Epoch 7/8\n",
            "11/11 [==============================] - 10s 913ms/step - loss: 0.7123 - accuracy: 0.7088\n",
            "Epoch 8/8\n",
            "11/11 [==============================] - 10s 913ms/step - loss: 0.5627 - accuracy: 0.7500\n"
          ]
        },
        {
          "output_type": "execute_result",
          "data": {
            "text/plain": [
              "<keras.callbacks.History at 0x7f2bce00fe10>"
            ]
          },
          "metadata": {},
          "execution_count": 34
        }
      ],
      "source": [
        "model5.fit(x_train_scaled,np.array(y_train),epochs=8)"
      ]
    },
    {
      "cell_type": "code",
      "execution_count": null,
      "metadata": {
        "id": "-_8C3wuB75GB",
        "colab": {
          "base_uri": "https://localhost:8080/"
        },
        "outputId": "4214775c-b034-4bf8-dc67-3987ab36318d"
      },
      "outputs": [
        {
          "output_type": "stream",
          "name": "stdout",
          "text": [
            "4/4 [==============================] - 1s 288ms/step - loss: 0.5057 - accuracy: 0.7895\n"
          ]
        },
        {
          "output_type": "execute_result",
          "data": {
            "text/plain": [
              "[0.5056672096252441, 0.7894737124443054]"
            ]
          },
          "metadata": {},
          "execution_count": 35
        }
      ],
      "source": [
        "model5.evaluate(x_test_scaled,np.array(y_test))"
      ]
    },
    {
      "cell_type": "raw",
      "metadata": {
        "id": "i9voOkyU75GB"
      },
      "source": [
        "#CNN MODEL THAT USES FILTERS IN ALL THE LAYERS"
      ]
    },
    {
      "cell_type": "code",
      "execution_count": null,
      "metadata": {
        "id": "wo2JcFll75GC"
      },
      "outputs": [],
      "source": [
        "myCNN=tf.keras.models.Sequential([\n",
        "    layers.BatchNormalization(),\n",
        "    layers.Conv2D(32,3,activation=\"relu\"),\n",
        "    layers.MaxPooling2D(),\n",
        "    layers.Conv2D(64,3,activation=\"relu\"),\n",
        "    layers.MaxPooling2D(),\n",
        "    layers.Conv2D(128,3,activation=\"relu\"),\n",
        "    layers.MaxPooling2D(),\n",
        "    layers.Flatten(),\n",
        "    layers.Dense(256,activation=\"relu\"),\n",
        "    layers.Dense(4,activation=\"softmax\")    \n",
        "])\n",
        "myCNN.compile(optimizer=\"adam\",loss=\"sparse_categorical_crossentropy\",metrics=[\"accuracy\"])"
      ]
    },
    {
      "cell_type": "code",
      "execution_count": null,
      "metadata": {
        "id": "gUKvtsx275GC",
        "colab": {
          "base_uri": "https://localhost:8080/"
        },
        "outputId": "6ddf16d3-a6ee-4883-f6b2-a78b01eb8275"
      },
      "outputs": [
        {
          "output_type": "stream",
          "name": "stdout",
          "text": [
            "Epoch 1/8\n",
            "11/11 [==============================] - 37s 3s/step - loss: 3.0918 - accuracy: 0.4559\n",
            "Epoch 2/8\n",
            "11/11 [==============================] - 35s 3s/step - loss: 0.6018 - accuracy: 0.7735\n",
            "Epoch 3/8\n",
            "11/11 [==============================] - 36s 3s/step - loss: 0.4183 - accuracy: 0.8176\n",
            "Epoch 4/8\n",
            "11/11 [==============================] - 35s 3s/step - loss: 0.2634 - accuracy: 0.9088\n",
            "Epoch 5/8\n",
            "11/11 [==============================] - 42s 4s/step - loss: 0.1843 - accuracy: 0.9176\n",
            "Epoch 6/8\n",
            "11/11 [==============================] - 36s 3s/step - loss: 0.2174 - accuracy: 0.9294\n",
            "Epoch 7/8\n",
            "11/11 [==============================] - 38s 3s/step - loss: 0.1433 - accuracy: 0.9500\n",
            "Epoch 8/8\n",
            "11/11 [==============================] - 40s 4s/step - loss: 0.0620 - accuracy: 0.9853\n"
          ]
        },
        {
          "output_type": "execute_result",
          "data": {
            "text/plain": [
              "<keras.callbacks.History at 0x7f2bcdff9750>"
            ]
          },
          "metadata": {},
          "execution_count": 37
        }
      ],
      "source": [
        "myCNN.fit(x_train_scaled,np.array(y_train),epochs=8)"
      ]
    },
    {
      "cell_type": "code",
      "execution_count": null,
      "metadata": {
        "id": "5QZKW_p675GC",
        "colab": {
          "base_uri": "https://localhost:8080/"
        },
        "outputId": "c5cebe09-4325-42b8-e9df-3960f73e88e6"
      },
      "outputs": [
        {
          "output_type": "stream",
          "name": "stdout",
          "text": [
            "4/4 [==============================] - 3s 736ms/step - loss: 0.3831 - accuracy: 0.8860\n"
          ]
        },
        {
          "output_type": "execute_result",
          "data": {
            "text/plain": [
              "[0.38307976722717285, 0.8859649300575256]"
            ]
          },
          "metadata": {},
          "execution_count": 38
        }
      ],
      "source": [
        "myCNN.evaluate(x_test_scaled,np.array(y_test))"
      ]
    }
  ],
  "metadata": {
    "colab": {
      "collapsed_sections": [],
      "provenance": []
    },
    "kernelspec": {
      "display_name": "Python 3",
      "language": "python",
      "name": "python3"
    },
    "language_info": {
      "codemirror_mode": {
        "name": "ipython",
        "version": 3
      },
      "file_extension": ".py",
      "mimetype": "text/x-python",
      "name": "python",
      "nbconvert_exporter": "python",
      "pygments_lexer": "ipython3",
      "version": "3.7.6"
    }
  },
  "nbformat": 4,
  "nbformat_minor": 0
}